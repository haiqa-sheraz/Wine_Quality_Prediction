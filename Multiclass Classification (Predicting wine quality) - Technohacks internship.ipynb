{
 "cells": [
  {
   "cell_type": "markdown",
   "metadata": {},
   "source": [
    "## Importing Libraries"
   ]
  },
  {
   "cell_type": "code",
   "execution_count": 170,
   "metadata": {},
   "outputs": [],
   "source": [
    "import pandas as pd\n",
    "import numpy as np\n",
    "import matplotlib.pyplot as plt\n",
    "import seaborn as sns\n",
    "from sklearn.model_selection import train_test_split, cross_val_score\n",
    "from sklearn.ensemble import RandomForestClassifier, VotingClassifier, BaggingClassifier\n",
    "from sklearn.metrics import accuracy_score, mean_squared_error, f1_score\n",
    "from sklearn.tree import DecisionTreeClassifier\n",
    "from xgboost import XGBClassifier\n",
    "from sklearn.linear_model import LogisticRegression, Ridge, Lasso\n",
    "from sklearn.preprocessing import StandardScaler, LabelEncoder\n",
    "from sklearn.svm import SVC\n",
    "import tensorflow as tf\n",
    "from tensorflow import keras\n",
    "from tensorflow.keras import layers\n",
    "from tensorflow.keras.optimizers import Adam, SGD, RMSprop"
   ]
  },
  {
   "cell_type": "markdown",
   "metadata": {},
   "source": [
    "## Reading Data"
   ]
  },
  {
   "cell_type": "code",
   "execution_count": 103,
   "metadata": {},
   "outputs": [
    {
     "data": {
      "text/html": [
       "<div>\n",
       "<style scoped>\n",
       "    .dataframe tbody tr th:only-of-type {\n",
       "        vertical-align: middle;\n",
       "    }\n",
       "\n",
       "    .dataframe tbody tr th {\n",
       "        vertical-align: top;\n",
       "    }\n",
       "\n",
       "    .dataframe thead th {\n",
       "        text-align: right;\n",
       "    }\n",
       "</style>\n",
       "<table border=\"1\" class=\"dataframe\">\n",
       "  <thead>\n",
       "    <tr style=\"text-align: right;\">\n",
       "      <th></th>\n",
       "      <th>fixed acidity</th>\n",
       "      <th>volatile acidity</th>\n",
       "      <th>citric acid</th>\n",
       "      <th>residual sugar</th>\n",
       "      <th>chlorides</th>\n",
       "      <th>free sulfur dioxide</th>\n",
       "      <th>total sulfur dioxide</th>\n",
       "      <th>density</th>\n",
       "      <th>pH</th>\n",
       "      <th>sulphates</th>\n",
       "      <th>alcohol</th>\n",
       "      <th>quality</th>\n",
       "    </tr>\n",
       "  </thead>\n",
       "  <tbody>\n",
       "    <tr>\n",
       "      <th>0</th>\n",
       "      <td>7.4</td>\n",
       "      <td>0.700</td>\n",
       "      <td>0.00</td>\n",
       "      <td>1.9</td>\n",
       "      <td>0.076</td>\n",
       "      <td>11.0</td>\n",
       "      <td>34.0</td>\n",
       "      <td>0.99780</td>\n",
       "      <td>3.51</td>\n",
       "      <td>0.56</td>\n",
       "      <td>9.4</td>\n",
       "      <td>5</td>\n",
       "    </tr>\n",
       "    <tr>\n",
       "      <th>1</th>\n",
       "      <td>7.8</td>\n",
       "      <td>0.880</td>\n",
       "      <td>0.00</td>\n",
       "      <td>2.6</td>\n",
       "      <td>0.098</td>\n",
       "      <td>25.0</td>\n",
       "      <td>67.0</td>\n",
       "      <td>0.99680</td>\n",
       "      <td>3.20</td>\n",
       "      <td>0.68</td>\n",
       "      <td>9.8</td>\n",
       "      <td>5</td>\n",
       "    </tr>\n",
       "    <tr>\n",
       "      <th>2</th>\n",
       "      <td>7.8</td>\n",
       "      <td>0.760</td>\n",
       "      <td>0.04</td>\n",
       "      <td>2.3</td>\n",
       "      <td>0.092</td>\n",
       "      <td>15.0</td>\n",
       "      <td>54.0</td>\n",
       "      <td>0.99700</td>\n",
       "      <td>3.26</td>\n",
       "      <td>0.65</td>\n",
       "      <td>9.8</td>\n",
       "      <td>5</td>\n",
       "    </tr>\n",
       "    <tr>\n",
       "      <th>3</th>\n",
       "      <td>11.2</td>\n",
       "      <td>0.280</td>\n",
       "      <td>0.56</td>\n",
       "      <td>1.9</td>\n",
       "      <td>0.075</td>\n",
       "      <td>17.0</td>\n",
       "      <td>60.0</td>\n",
       "      <td>0.99800</td>\n",
       "      <td>3.16</td>\n",
       "      <td>0.58</td>\n",
       "      <td>9.8</td>\n",
       "      <td>6</td>\n",
       "    </tr>\n",
       "    <tr>\n",
       "      <th>4</th>\n",
       "      <td>7.4</td>\n",
       "      <td>0.700</td>\n",
       "      <td>0.00</td>\n",
       "      <td>1.9</td>\n",
       "      <td>0.076</td>\n",
       "      <td>11.0</td>\n",
       "      <td>34.0</td>\n",
       "      <td>0.99780</td>\n",
       "      <td>3.51</td>\n",
       "      <td>0.56</td>\n",
       "      <td>9.4</td>\n",
       "      <td>5</td>\n",
       "    </tr>\n",
       "    <tr>\n",
       "      <th>...</th>\n",
       "      <td>...</td>\n",
       "      <td>...</td>\n",
       "      <td>...</td>\n",
       "      <td>...</td>\n",
       "      <td>...</td>\n",
       "      <td>...</td>\n",
       "      <td>...</td>\n",
       "      <td>...</td>\n",
       "      <td>...</td>\n",
       "      <td>...</td>\n",
       "      <td>...</td>\n",
       "      <td>...</td>\n",
       "    </tr>\n",
       "    <tr>\n",
       "      <th>1594</th>\n",
       "      <td>6.2</td>\n",
       "      <td>0.600</td>\n",
       "      <td>0.08</td>\n",
       "      <td>2.0</td>\n",
       "      <td>0.090</td>\n",
       "      <td>32.0</td>\n",
       "      <td>44.0</td>\n",
       "      <td>0.99490</td>\n",
       "      <td>3.45</td>\n",
       "      <td>0.58</td>\n",
       "      <td>10.5</td>\n",
       "      <td>5</td>\n",
       "    </tr>\n",
       "    <tr>\n",
       "      <th>1595</th>\n",
       "      <td>5.9</td>\n",
       "      <td>0.550</td>\n",
       "      <td>0.10</td>\n",
       "      <td>2.2</td>\n",
       "      <td>0.062</td>\n",
       "      <td>39.0</td>\n",
       "      <td>51.0</td>\n",
       "      <td>0.99512</td>\n",
       "      <td>3.52</td>\n",
       "      <td>0.76</td>\n",
       "      <td>11.2</td>\n",
       "      <td>6</td>\n",
       "    </tr>\n",
       "    <tr>\n",
       "      <th>1596</th>\n",
       "      <td>6.3</td>\n",
       "      <td>0.510</td>\n",
       "      <td>0.13</td>\n",
       "      <td>2.3</td>\n",
       "      <td>0.076</td>\n",
       "      <td>29.0</td>\n",
       "      <td>40.0</td>\n",
       "      <td>0.99574</td>\n",
       "      <td>3.42</td>\n",
       "      <td>0.75</td>\n",
       "      <td>11.0</td>\n",
       "      <td>6</td>\n",
       "    </tr>\n",
       "    <tr>\n",
       "      <th>1597</th>\n",
       "      <td>5.9</td>\n",
       "      <td>0.645</td>\n",
       "      <td>0.12</td>\n",
       "      <td>2.0</td>\n",
       "      <td>0.075</td>\n",
       "      <td>32.0</td>\n",
       "      <td>44.0</td>\n",
       "      <td>0.99547</td>\n",
       "      <td>3.57</td>\n",
       "      <td>0.71</td>\n",
       "      <td>10.2</td>\n",
       "      <td>5</td>\n",
       "    </tr>\n",
       "    <tr>\n",
       "      <th>1598</th>\n",
       "      <td>6.0</td>\n",
       "      <td>0.310</td>\n",
       "      <td>0.47</td>\n",
       "      <td>3.6</td>\n",
       "      <td>0.067</td>\n",
       "      <td>18.0</td>\n",
       "      <td>42.0</td>\n",
       "      <td>0.99549</td>\n",
       "      <td>3.39</td>\n",
       "      <td>0.66</td>\n",
       "      <td>11.0</td>\n",
       "      <td>6</td>\n",
       "    </tr>\n",
       "  </tbody>\n",
       "</table>\n",
       "<p>1599 rows × 12 columns</p>\n",
       "</div>"
      ],
      "text/plain": [
       "      fixed acidity  volatile acidity  citric acid  residual sugar  chlorides  \\\n",
       "0               7.4             0.700         0.00             1.9      0.076   \n",
       "1               7.8             0.880         0.00             2.6      0.098   \n",
       "2               7.8             0.760         0.04             2.3      0.092   \n",
       "3              11.2             0.280         0.56             1.9      0.075   \n",
       "4               7.4             0.700         0.00             1.9      0.076   \n",
       "...             ...               ...          ...             ...        ...   \n",
       "1594            6.2             0.600         0.08             2.0      0.090   \n",
       "1595            5.9             0.550         0.10             2.2      0.062   \n",
       "1596            6.3             0.510         0.13             2.3      0.076   \n",
       "1597            5.9             0.645         0.12             2.0      0.075   \n",
       "1598            6.0             0.310         0.47             3.6      0.067   \n",
       "\n",
       "      free sulfur dioxide  total sulfur dioxide  density    pH  sulphates  \\\n",
       "0                    11.0                  34.0  0.99780  3.51       0.56   \n",
       "1                    25.0                  67.0  0.99680  3.20       0.68   \n",
       "2                    15.0                  54.0  0.99700  3.26       0.65   \n",
       "3                    17.0                  60.0  0.99800  3.16       0.58   \n",
       "4                    11.0                  34.0  0.99780  3.51       0.56   \n",
       "...                   ...                   ...      ...   ...        ...   \n",
       "1594                 32.0                  44.0  0.99490  3.45       0.58   \n",
       "1595                 39.0                  51.0  0.99512  3.52       0.76   \n",
       "1596                 29.0                  40.0  0.99574  3.42       0.75   \n",
       "1597                 32.0                  44.0  0.99547  3.57       0.71   \n",
       "1598                 18.0                  42.0  0.99549  3.39       0.66   \n",
       "\n",
       "      alcohol  quality  \n",
       "0         9.4        5  \n",
       "1         9.8        5  \n",
       "2         9.8        5  \n",
       "3         9.8        6  \n",
       "4         9.4        5  \n",
       "...       ...      ...  \n",
       "1594     10.5        5  \n",
       "1595     11.2        6  \n",
       "1596     11.0        6  \n",
       "1597     10.2        5  \n",
       "1598     11.0        6  \n",
       "\n",
       "[1599 rows x 12 columns]"
      ]
     },
     "execution_count": 103,
     "metadata": {},
     "output_type": "execute_result"
    }
   ],
   "source": [
    "data = pd.read_csv('winequality-red.csv')\n",
    "data"
   ]
  },
  {
   "cell_type": "markdown",
   "metadata": {},
   "source": [
    "## Exploratory Data Analysis"
   ]
  },
  {
   "cell_type": "code",
   "execution_count": 104,
   "metadata": {},
   "outputs": [
    {
     "data": {
      "text/plain": [
       "array([5, 6, 7, 4, 8, 3], dtype=int64)"
      ]
     },
     "execution_count": 104,
     "metadata": {},
     "output_type": "execute_result"
    }
   ],
   "source": [
    "data.quality.unique()"
   ]
  },
  {
   "cell_type": "markdown",
   "metadata": {},
   "source": [
    "### Check if there are any null (missing) values in data"
   ]
  },
  {
   "cell_type": "code",
   "execution_count": 105,
   "metadata": {},
   "outputs": [
    {
     "data": {
      "text/plain": [
       "fixed acidity           0\n",
       "volatile acidity        0\n",
       "citric acid             0\n",
       "residual sugar          0\n",
       "chlorides               0\n",
       "free sulfur dioxide     0\n",
       "total sulfur dioxide    0\n",
       "density                 0\n",
       "pH                      0\n",
       "sulphates               0\n",
       "alcohol                 0\n",
       "quality                 0\n",
       "dtype: int64"
      ]
     },
     "execution_count": 105,
     "metadata": {},
     "output_type": "execute_result"
    }
   ],
   "source": [
    "data.isnull().sum()"
   ]
  },
  {
   "cell_type": "markdown",
   "metadata": {},
   "source": [
    "### How correlated are the variables?"
   ]
  },
  {
   "cell_type": "code",
   "execution_count": 106,
   "metadata": {},
   "outputs": [
    {
     "data": {
      "text/html": [
       "<div>\n",
       "<style scoped>\n",
       "    .dataframe tbody tr th:only-of-type {\n",
       "        vertical-align: middle;\n",
       "    }\n",
       "\n",
       "    .dataframe tbody tr th {\n",
       "        vertical-align: top;\n",
       "    }\n",
       "\n",
       "    .dataframe thead th {\n",
       "        text-align: right;\n",
       "    }\n",
       "</style>\n",
       "<table border=\"1\" class=\"dataframe\">\n",
       "  <thead>\n",
       "    <tr style=\"text-align: right;\">\n",
       "      <th></th>\n",
       "      <th>fixed acidity</th>\n",
       "      <th>volatile acidity</th>\n",
       "      <th>citric acid</th>\n",
       "      <th>residual sugar</th>\n",
       "      <th>chlorides</th>\n",
       "      <th>free sulfur dioxide</th>\n",
       "      <th>total sulfur dioxide</th>\n",
       "      <th>density</th>\n",
       "      <th>pH</th>\n",
       "      <th>sulphates</th>\n",
       "      <th>alcohol</th>\n",
       "      <th>quality</th>\n",
       "    </tr>\n",
       "  </thead>\n",
       "  <tbody>\n",
       "    <tr>\n",
       "      <th>fixed acidity</th>\n",
       "      <td>1.000000</td>\n",
       "      <td>-0.256131</td>\n",
       "      <td>0.671703</td>\n",
       "      <td>0.114777</td>\n",
       "      <td>0.093705</td>\n",
       "      <td>-0.153794</td>\n",
       "      <td>-0.113181</td>\n",
       "      <td>0.668047</td>\n",
       "      <td>-0.682978</td>\n",
       "      <td>0.183006</td>\n",
       "      <td>-0.061668</td>\n",
       "      <td>0.124052</td>\n",
       "    </tr>\n",
       "    <tr>\n",
       "      <th>volatile acidity</th>\n",
       "      <td>-0.256131</td>\n",
       "      <td>1.000000</td>\n",
       "      <td>-0.552496</td>\n",
       "      <td>0.001918</td>\n",
       "      <td>0.061298</td>\n",
       "      <td>-0.010504</td>\n",
       "      <td>0.076470</td>\n",
       "      <td>0.022026</td>\n",
       "      <td>0.234937</td>\n",
       "      <td>-0.260987</td>\n",
       "      <td>-0.202288</td>\n",
       "      <td>-0.390558</td>\n",
       "    </tr>\n",
       "    <tr>\n",
       "      <th>citric acid</th>\n",
       "      <td>0.671703</td>\n",
       "      <td>-0.552496</td>\n",
       "      <td>1.000000</td>\n",
       "      <td>0.143577</td>\n",
       "      <td>0.203823</td>\n",
       "      <td>-0.060978</td>\n",
       "      <td>0.035533</td>\n",
       "      <td>0.364947</td>\n",
       "      <td>-0.541904</td>\n",
       "      <td>0.312770</td>\n",
       "      <td>0.109903</td>\n",
       "      <td>0.226373</td>\n",
       "    </tr>\n",
       "    <tr>\n",
       "      <th>residual sugar</th>\n",
       "      <td>0.114777</td>\n",
       "      <td>0.001918</td>\n",
       "      <td>0.143577</td>\n",
       "      <td>1.000000</td>\n",
       "      <td>0.055610</td>\n",
       "      <td>0.187049</td>\n",
       "      <td>0.203028</td>\n",
       "      <td>0.355283</td>\n",
       "      <td>-0.085652</td>\n",
       "      <td>0.005527</td>\n",
       "      <td>0.042075</td>\n",
       "      <td>0.013732</td>\n",
       "    </tr>\n",
       "    <tr>\n",
       "      <th>chlorides</th>\n",
       "      <td>0.093705</td>\n",
       "      <td>0.061298</td>\n",
       "      <td>0.203823</td>\n",
       "      <td>0.055610</td>\n",
       "      <td>1.000000</td>\n",
       "      <td>0.005562</td>\n",
       "      <td>0.047400</td>\n",
       "      <td>0.200632</td>\n",
       "      <td>-0.265026</td>\n",
       "      <td>0.371260</td>\n",
       "      <td>-0.221141</td>\n",
       "      <td>-0.128907</td>\n",
       "    </tr>\n",
       "    <tr>\n",
       "      <th>free sulfur dioxide</th>\n",
       "      <td>-0.153794</td>\n",
       "      <td>-0.010504</td>\n",
       "      <td>-0.060978</td>\n",
       "      <td>0.187049</td>\n",
       "      <td>0.005562</td>\n",
       "      <td>1.000000</td>\n",
       "      <td>0.667666</td>\n",
       "      <td>-0.021946</td>\n",
       "      <td>0.070377</td>\n",
       "      <td>0.051658</td>\n",
       "      <td>-0.069408</td>\n",
       "      <td>-0.050656</td>\n",
       "    </tr>\n",
       "    <tr>\n",
       "      <th>total sulfur dioxide</th>\n",
       "      <td>-0.113181</td>\n",
       "      <td>0.076470</td>\n",
       "      <td>0.035533</td>\n",
       "      <td>0.203028</td>\n",
       "      <td>0.047400</td>\n",
       "      <td>0.667666</td>\n",
       "      <td>1.000000</td>\n",
       "      <td>0.071269</td>\n",
       "      <td>-0.066495</td>\n",
       "      <td>0.042947</td>\n",
       "      <td>-0.205654</td>\n",
       "      <td>-0.185100</td>\n",
       "    </tr>\n",
       "    <tr>\n",
       "      <th>density</th>\n",
       "      <td>0.668047</td>\n",
       "      <td>0.022026</td>\n",
       "      <td>0.364947</td>\n",
       "      <td>0.355283</td>\n",
       "      <td>0.200632</td>\n",
       "      <td>-0.021946</td>\n",
       "      <td>0.071269</td>\n",
       "      <td>1.000000</td>\n",
       "      <td>-0.341699</td>\n",
       "      <td>0.148506</td>\n",
       "      <td>-0.496180</td>\n",
       "      <td>-0.174919</td>\n",
       "    </tr>\n",
       "    <tr>\n",
       "      <th>pH</th>\n",
       "      <td>-0.682978</td>\n",
       "      <td>0.234937</td>\n",
       "      <td>-0.541904</td>\n",
       "      <td>-0.085652</td>\n",
       "      <td>-0.265026</td>\n",
       "      <td>0.070377</td>\n",
       "      <td>-0.066495</td>\n",
       "      <td>-0.341699</td>\n",
       "      <td>1.000000</td>\n",
       "      <td>-0.196648</td>\n",
       "      <td>0.205633</td>\n",
       "      <td>-0.057731</td>\n",
       "    </tr>\n",
       "    <tr>\n",
       "      <th>sulphates</th>\n",
       "      <td>0.183006</td>\n",
       "      <td>-0.260987</td>\n",
       "      <td>0.312770</td>\n",
       "      <td>0.005527</td>\n",
       "      <td>0.371260</td>\n",
       "      <td>0.051658</td>\n",
       "      <td>0.042947</td>\n",
       "      <td>0.148506</td>\n",
       "      <td>-0.196648</td>\n",
       "      <td>1.000000</td>\n",
       "      <td>0.093595</td>\n",
       "      <td>0.251397</td>\n",
       "    </tr>\n",
       "    <tr>\n",
       "      <th>alcohol</th>\n",
       "      <td>-0.061668</td>\n",
       "      <td>-0.202288</td>\n",
       "      <td>0.109903</td>\n",
       "      <td>0.042075</td>\n",
       "      <td>-0.221141</td>\n",
       "      <td>-0.069408</td>\n",
       "      <td>-0.205654</td>\n",
       "      <td>-0.496180</td>\n",
       "      <td>0.205633</td>\n",
       "      <td>0.093595</td>\n",
       "      <td>1.000000</td>\n",
       "      <td>0.476166</td>\n",
       "    </tr>\n",
       "    <tr>\n",
       "      <th>quality</th>\n",
       "      <td>0.124052</td>\n",
       "      <td>-0.390558</td>\n",
       "      <td>0.226373</td>\n",
       "      <td>0.013732</td>\n",
       "      <td>-0.128907</td>\n",
       "      <td>-0.050656</td>\n",
       "      <td>-0.185100</td>\n",
       "      <td>-0.174919</td>\n",
       "      <td>-0.057731</td>\n",
       "      <td>0.251397</td>\n",
       "      <td>0.476166</td>\n",
       "      <td>1.000000</td>\n",
       "    </tr>\n",
       "  </tbody>\n",
       "</table>\n",
       "</div>"
      ],
      "text/plain": [
       "                      fixed acidity  volatile acidity  citric acid  \\\n",
       "fixed acidity              1.000000         -0.256131     0.671703   \n",
       "volatile acidity          -0.256131          1.000000    -0.552496   \n",
       "citric acid                0.671703         -0.552496     1.000000   \n",
       "residual sugar             0.114777          0.001918     0.143577   \n",
       "chlorides                  0.093705          0.061298     0.203823   \n",
       "free sulfur dioxide       -0.153794         -0.010504    -0.060978   \n",
       "total sulfur dioxide      -0.113181          0.076470     0.035533   \n",
       "density                    0.668047          0.022026     0.364947   \n",
       "pH                        -0.682978          0.234937    -0.541904   \n",
       "sulphates                  0.183006         -0.260987     0.312770   \n",
       "alcohol                   -0.061668         -0.202288     0.109903   \n",
       "quality                    0.124052         -0.390558     0.226373   \n",
       "\n",
       "                      residual sugar  chlorides  free sulfur dioxide  \\\n",
       "fixed acidity               0.114777   0.093705            -0.153794   \n",
       "volatile acidity            0.001918   0.061298            -0.010504   \n",
       "citric acid                 0.143577   0.203823            -0.060978   \n",
       "residual sugar              1.000000   0.055610             0.187049   \n",
       "chlorides                   0.055610   1.000000             0.005562   \n",
       "free sulfur dioxide         0.187049   0.005562             1.000000   \n",
       "total sulfur dioxide        0.203028   0.047400             0.667666   \n",
       "density                     0.355283   0.200632            -0.021946   \n",
       "pH                         -0.085652  -0.265026             0.070377   \n",
       "sulphates                   0.005527   0.371260             0.051658   \n",
       "alcohol                     0.042075  -0.221141            -0.069408   \n",
       "quality                     0.013732  -0.128907            -0.050656   \n",
       "\n",
       "                      total sulfur dioxide   density        pH  sulphates  \\\n",
       "fixed acidity                    -0.113181  0.668047 -0.682978   0.183006   \n",
       "volatile acidity                  0.076470  0.022026  0.234937  -0.260987   \n",
       "citric acid                       0.035533  0.364947 -0.541904   0.312770   \n",
       "residual sugar                    0.203028  0.355283 -0.085652   0.005527   \n",
       "chlorides                         0.047400  0.200632 -0.265026   0.371260   \n",
       "free sulfur dioxide               0.667666 -0.021946  0.070377   0.051658   \n",
       "total sulfur dioxide              1.000000  0.071269 -0.066495   0.042947   \n",
       "density                           0.071269  1.000000 -0.341699   0.148506   \n",
       "pH                               -0.066495 -0.341699  1.000000  -0.196648   \n",
       "sulphates                         0.042947  0.148506 -0.196648   1.000000   \n",
       "alcohol                          -0.205654 -0.496180  0.205633   0.093595   \n",
       "quality                          -0.185100 -0.174919 -0.057731   0.251397   \n",
       "\n",
       "                       alcohol   quality  \n",
       "fixed acidity        -0.061668  0.124052  \n",
       "volatile acidity     -0.202288 -0.390558  \n",
       "citric acid           0.109903  0.226373  \n",
       "residual sugar        0.042075  0.013732  \n",
       "chlorides            -0.221141 -0.128907  \n",
       "free sulfur dioxide  -0.069408 -0.050656  \n",
       "total sulfur dioxide -0.205654 -0.185100  \n",
       "density              -0.496180 -0.174919  \n",
       "pH                    0.205633 -0.057731  \n",
       "sulphates             0.093595  0.251397  \n",
       "alcohol               1.000000  0.476166  \n",
       "quality               0.476166  1.000000  "
      ]
     },
     "execution_count": 106,
     "metadata": {},
     "output_type": "execute_result"
    }
   ],
   "source": [
    "data.corr()"
   ]
  },
  {
   "cell_type": "code",
   "execution_count": 107,
   "metadata": {},
   "outputs": [
    {
     "data": {
      "text/plain": [
       "<function matplotlib.pyplot.plot(*args, scalex=True, scaley=True, data=None, **kwargs)>"
      ]
     },
     "execution_count": 107,
     "metadata": {},
     "output_type": "execute_result"
    },
    {
     "data": {
      "image/png": "[encoded data removed]",
      "text/plain": [
       "<Figure size 864x360 with 2 Axes>"
      ]
     },
     "metadata": {
      "needs_background": "light"
     },
     "output_type": "display_data"
    }
   ],
   "source": [
    "plt.figure(figsize=(12,5))\n",
    "heatmap = sns.heatmap(data=data.corr(), annot=True)\n",
    "plt.plot"
   ]
  },
  {
   "cell_type": "code",
   "execution_count": 108,
   "metadata": {},
   "outputs": [
    {
     "data": {
      "text/html": [
       "<div>\n",
       "<style scoped>\n",
       "    .dataframe tbody tr th:only-of-type {\n",
       "        vertical-align: middle;\n",
       "    }\n",
       "\n",
       "    .dataframe tbody tr th {\n",
       "        vertical-align: top;\n",
       "    }\n",
       "\n",
       "    .dataframe thead th {\n",
       "        text-align: right;\n",
       "    }\n",
       "</style>\n",
       "<table border=\"1\" class=\"dataframe\">\n",
       "  <thead>\n",
       "    <tr style=\"text-align: right;\">\n",
       "      <th></th>\n",
       "      <th>fixed acidity</th>\n",
       "      <th>volatile acidity</th>\n",
       "      <th>citric acid</th>\n",
       "      <th>residual sugar</th>\n",
       "      <th>chlorides</th>\n",
       "      <th>free sulfur dioxide</th>\n",
       "      <th>total sulfur dioxide</th>\n",
       "      <th>density</th>\n",
       "      <th>pH</th>\n",
       "      <th>sulphates</th>\n",
       "      <th>alcohol</th>\n",
       "    </tr>\n",
       "    <tr>\n",
       "      <th>quality</th>\n",
       "      <th></th>\n",
       "      <th></th>\n",
       "      <th></th>\n",
       "      <th></th>\n",
       "      <th></th>\n",
       "      <th></th>\n",
       "      <th></th>\n",
       "      <th></th>\n",
       "      <th></th>\n",
       "      <th></th>\n",
       "      <th></th>\n",
       "    </tr>\n",
       "  </thead>\n",
       "  <tbody>\n",
       "    <tr>\n",
       "      <th>3</th>\n",
       "      <td>10</td>\n",
       "      <td>10</td>\n",
       "      <td>10</td>\n",
       "      <td>10</td>\n",
       "      <td>10</td>\n",
       "      <td>10</td>\n",
       "      <td>10</td>\n",
       "      <td>10</td>\n",
       "      <td>10</td>\n",
       "      <td>10</td>\n",
       "      <td>10</td>\n",
       "    </tr>\n",
       "    <tr>\n",
       "      <th>4</th>\n",
       "      <td>53</td>\n",
       "      <td>53</td>\n",
       "      <td>53</td>\n",
       "      <td>53</td>\n",
       "      <td>53</td>\n",
       "      <td>53</td>\n",
       "      <td>53</td>\n",
       "      <td>53</td>\n",
       "      <td>53</td>\n",
       "      <td>53</td>\n",
       "      <td>53</td>\n",
       "    </tr>\n",
       "    <tr>\n",
       "      <th>5</th>\n",
       "      <td>681</td>\n",
       "      <td>681</td>\n",
       "      <td>681</td>\n",
       "      <td>681</td>\n",
       "      <td>681</td>\n",
       "      <td>681</td>\n",
       "      <td>681</td>\n",
       "      <td>681</td>\n",
       "      <td>681</td>\n",
       "      <td>681</td>\n",
       "      <td>681</td>\n",
       "    </tr>\n",
       "    <tr>\n",
       "      <th>6</th>\n",
       "      <td>638</td>\n",
       "      <td>638</td>\n",
       "      <td>638</td>\n",
       "      <td>638</td>\n",
       "      <td>638</td>\n",
       "      <td>638</td>\n",
       "      <td>638</td>\n",
       "      <td>638</td>\n",
       "      <td>638</td>\n",
       "      <td>638</td>\n",
       "      <td>638</td>\n",
       "    </tr>\n",
       "    <tr>\n",
       "      <th>7</th>\n",
       "      <td>199</td>\n",
       "      <td>199</td>\n",
       "      <td>199</td>\n",
       "      <td>199</td>\n",
       "      <td>199</td>\n",
       "      <td>199</td>\n",
       "      <td>199</td>\n",
       "      <td>199</td>\n",
       "      <td>199</td>\n",
       "      <td>199</td>\n",
       "      <td>199</td>\n",
       "    </tr>\n",
       "    <tr>\n",
       "      <th>8</th>\n",
       "      <td>18</td>\n",
       "      <td>18</td>\n",
       "      <td>18</td>\n",
       "      <td>18</td>\n",
       "      <td>18</td>\n",
       "      <td>18</td>\n",
       "      <td>18</td>\n",
       "      <td>18</td>\n",
       "      <td>18</td>\n",
       "      <td>18</td>\n",
       "      <td>18</td>\n",
       "    </tr>\n",
       "  </tbody>\n",
       "</table>\n",
       "</div>"
      ],
      "text/plain": [
       "         fixed acidity  volatile acidity  citric acid  residual sugar  \\\n",
       "quality                                                                 \n",
       "3                   10                10           10              10   \n",
       "4                   53                53           53              53   \n",
       "5                  681               681          681             681   \n",
       "6                  638               638          638             638   \n",
       "7                  199               199          199             199   \n",
       "8                   18                18           18              18   \n",
       "\n",
       "         chlorides  free sulfur dioxide  total sulfur dioxide  density   pH  \\\n",
       "quality                                                                       \n",
       "3               10                   10                    10       10   10   \n",
       "4               53                   53                    53       53   53   \n",
       "5              681                  681                   681      681  681   \n",
       "6              638                  638                   638      638  638   \n",
       "7              199                  199                   199      199  199   \n",
       "8               18                   18                    18       18   18   \n",
       "\n",
       "         sulphates  alcohol  \n",
       "quality                      \n",
       "3               10       10  \n",
       "4               53       53  \n",
       "5              681      681  \n",
       "6              638      638  \n",
       "7              199      199  \n",
       "8               18       18  "
      ]
     },
     "execution_count": 108,
     "metadata": {},
     "output_type": "execute_result"
    }
   ],
   "source": [
    "grouped_data = data.groupby('quality').count()\n",
    "grouped_data"
   ]
  },
  {
   "cell_type": "markdown",
   "metadata": {},
   "source": [
    "### Visualizing the dependency of the wine quality on features that are highly correlated"
   ]
  },
  {
   "cell_type": "code",
   "execution_count": 109,
   "metadata": {},
   "outputs": [
    {
     "data": {
      "text/html": [
       "<div>\n",
       "<style scoped>\n",
       "    .dataframe tbody tr th:only-of-type {\n",
       "        vertical-align: middle;\n",
       "    }\n",
       "\n",
       "    .dataframe tbody tr th {\n",
       "        vertical-align: top;\n",
       "    }\n",
       "\n",
       "    .dataframe thead th {\n",
       "        text-align: right;\n",
       "    }\n",
       "</style>\n",
       "<table border=\"1\" class=\"dataframe\">\n",
       "  <thead>\n",
       "    <tr style=\"text-align: right;\">\n",
       "      <th></th>\n",
       "      <th>alcohol</th>\n",
       "    </tr>\n",
       "    <tr>\n",
       "      <th>quality</th>\n",
       "      <th></th>\n",
       "    </tr>\n",
       "  </thead>\n",
       "  <tbody>\n",
       "    <tr>\n",
       "      <th>3</th>\n",
       "      <td>10</td>\n",
       "    </tr>\n",
       "    <tr>\n",
       "      <th>4</th>\n",
       "      <td>53</td>\n",
       "    </tr>\n",
       "    <tr>\n",
       "      <th>5</th>\n",
       "      <td>681</td>\n",
       "    </tr>\n",
       "    <tr>\n",
       "      <th>6</th>\n",
       "      <td>638</td>\n",
       "    </tr>\n",
       "    <tr>\n",
       "      <th>7</th>\n",
       "      <td>199</td>\n",
       "    </tr>\n",
       "    <tr>\n",
       "      <th>8</th>\n",
       "      <td>18</td>\n",
       "    </tr>\n",
       "  </tbody>\n",
       "</table>\n",
       "</div>"
      ],
      "text/plain": [
       "         alcohol\n",
       "quality         \n",
       "3             10\n",
       "4             53\n",
       "5            681\n",
       "6            638\n",
       "7            199\n",
       "8             18"
      ]
     },
     "execution_count": 109,
     "metadata": {},
     "output_type": "execute_result"
    }
   ],
   "source": [
    "grouped_alcohol_data = data.groupby('quality')['alcohol'].count()\n",
    "grouped_alcohol_data = pd.DataFrame(grouped_alcohol_data)\n",
    "grouped_alcohol_data"
   ]
  },
  {
   "cell_type": "code",
   "execution_count": 110,
   "metadata": {},
   "outputs": [
    {
     "data": {
      "image/png": "[encoded data removed]",
      "text/plain": [
       "<Figure size 1440x360 with 3 Axes>"
      ]
     },
     "metadata": {
      "needs_background": "light"
     },
     "output_type": "display_data"
    }
   ],
   "source": [
    "fig, axes = plt.subplots(1, 3, figsize=(20,5))\n",
    "\n",
    "sns.scatterplot(x='alcohol', y='quality', data=data, ax=axes[0], color='#7209B7')\n",
    "sns.lineplot(x='quality', y='alcohol', data=data, ax=axes[1], color='#7209B7')\n",
    "sns.barplot(x='alcohol', y=grouped_alcohol_data.index, data=grouped_alcohol_data, ax=axes[2],color='#7209B7')\n",
    "\n",
    "fig.suptitle('Visualizing the relationship of alcohol with quality of wine', fontsize=15)\n",
    "plt.show()"
   ]
  },
  {
   "cell_type": "code",
   "execution_count": 111,
   "metadata": {},
   "outputs": [
    {
     "data": {
      "image/png": "[encoded data removed]",
      "text/plain": [
       "<Figure size 720x432 with 1 Axes>"
      ]
     },
     "metadata": {},
     "output_type": "display_data"
    }
   ],
   "source": [
    "custom_palette = sns.color_palette(\"flare\", len(grouped_alcohol_data))\n",
    "plt.figure(figsize=(10, 6))\n",
    "plt.pie(\n",
    "    grouped_alcohol_data['alcohol'],\n",
    "    labels=grouped_alcohol_data.index,\n",
    "    autopct='%1.1f%%',\n",
    "    wedgeprops={'width': 0.4, 'edgecolor': 'w'},\n",
    "    colors = custom_palette\n",
    ")\n",
    "\n",
    "center_circle = plt.Circle((0, 0), 0.70, fc='white') \n",
    "fig = plt.gcf()\n",
    "fig.gca().add_artist(center_circle)\n",
    "\n",
    "plt.title('Visualizing how alcohol affects the quality of wine', fontsize=15)\n",
    "\n",
    "plt.axis('equal')\n",
    "plt.tight_layout()\n",
    "plt.show()\n"
   ]
  },
  {
   "cell_type": "code",
   "execution_count": 112,
   "metadata": {},
   "outputs": [
    {
     "data": {
      "text/html": [
       "<div>\n",
       "<style scoped>\n",
       "    .dataframe tbody tr th:only-of-type {\n",
       "        vertical-align: middle;\n",
       "    }\n",
       "\n",
       "    .dataframe tbody tr th {\n",
       "        vertical-align: top;\n",
       "    }\n",
       "\n",
       "    .dataframe thead th {\n",
       "        text-align: right;\n",
       "    }\n",
       "</style>\n",
       "<table border=\"1\" class=\"dataframe\">\n",
       "  <thead>\n",
       "    <tr style=\"text-align: right;\">\n",
       "      <th></th>\n",
       "      <th>volatile acidity</th>\n",
       "    </tr>\n",
       "    <tr>\n",
       "      <th>quality</th>\n",
       "      <th></th>\n",
       "    </tr>\n",
       "  </thead>\n",
       "  <tbody>\n",
       "    <tr>\n",
       "      <th>3</th>\n",
       "      <td>10</td>\n",
       "    </tr>\n",
       "    <tr>\n",
       "      <th>4</th>\n",
       "      <td>53</td>\n",
       "    </tr>\n",
       "    <tr>\n",
       "      <th>5</th>\n",
       "      <td>681</td>\n",
       "    </tr>\n",
       "    <tr>\n",
       "      <th>6</th>\n",
       "      <td>638</td>\n",
       "    </tr>\n",
       "    <tr>\n",
       "      <th>7</th>\n",
       "      <td>199</td>\n",
       "    </tr>\n",
       "    <tr>\n",
       "      <th>8</th>\n",
       "      <td>18</td>\n",
       "    </tr>\n",
       "  </tbody>\n",
       "</table>\n",
       "</div>"
      ],
      "text/plain": [
       "         volatile acidity\n",
       "quality                  \n",
       "3                      10\n",
       "4                      53\n",
       "5                     681\n",
       "6                     638\n",
       "7                     199\n",
       "8                      18"
      ]
     },
     "execution_count": 112,
     "metadata": {},
     "output_type": "execute_result"
    }
   ],
   "source": [
    "grouped_acidity_data = data.groupby('quality')['volatile acidity'].count()\n",
    "grouped_acidity_data = pd.DataFrame(grouped_acidity_data)\n",
    "grouped_acidity_data"
   ]
  },
  {
   "cell_type": "code",
   "execution_count": 113,
   "metadata": {},
   "outputs": [
    {
     "data": {
      "image/png": "[encoded data removed]",
      "text/plain": [
       "<Figure size 1440x360 with 3 Axes>"
      ]
     },
     "metadata": {
      "needs_background": "light"
     },
     "output_type": "display_data"
    }
   ],
   "source": [
    "fig, axes = plt.subplots(1, 3, figsize=(20,5))\n",
    "\n",
    "sns.set_palette('RdBu', 9)\n",
    "sns.scatterplot(x='quality', y='volatile acidity', data=data, ax=axes[0])\n",
    "sns.lineplot(x='quality', y='volatile acidity', data=data, ax=axes[1])\n",
    "sns.barplot(x='volatile acidity', y=grouped_acidity_data.index, data=grouped_acidity_data,  ax=axes[2])\n",
    "\n",
    "fig.suptitle('Visualizing the relationship of alcohol with volatile acidity', fontsize=15)\n",
    "plt.show()"
   ]
  },
  {
   "cell_type": "markdown",
   "metadata": {},
   "source": [
    "### Now visualizing the relationships with features that are less correlated"
   ]
  },
  {
   "cell_type": "code",
   "execution_count": 114,
   "metadata": {},
   "outputs": [
    {
     "data": {
      "text/html": [
       "<div>\n",
       "<style scoped>\n",
       "    .dataframe tbody tr th:only-of-type {\n",
       "        vertical-align: middle;\n",
       "    }\n",
       "\n",
       "    .dataframe tbody tr th {\n",
       "        vertical-align: top;\n",
       "    }\n",
       "\n",
       "    .dataframe thead th {\n",
       "        text-align: right;\n",
       "    }\n",
       "</style>\n",
       "<table border=\"1\" class=\"dataframe\">\n",
       "  <thead>\n",
       "    <tr style=\"text-align: right;\">\n",
       "      <th></th>\n",
       "      <th>pH</th>\n",
       "    </tr>\n",
       "    <tr>\n",
       "      <th>quality</th>\n",
       "      <th></th>\n",
       "    </tr>\n",
       "  </thead>\n",
       "  <tbody>\n",
       "    <tr>\n",
       "      <th>3</th>\n",
       "      <td>10</td>\n",
       "    </tr>\n",
       "    <tr>\n",
       "      <th>4</th>\n",
       "      <td>53</td>\n",
       "    </tr>\n",
       "    <tr>\n",
       "      <th>5</th>\n",
       "      <td>681</td>\n",
       "    </tr>\n",
       "    <tr>\n",
       "      <th>6</th>\n",
       "      <td>638</td>\n",
       "    </tr>\n",
       "    <tr>\n",
       "      <th>7</th>\n",
       "      <td>199</td>\n",
       "    </tr>\n",
       "    <tr>\n",
       "      <th>8</th>\n",
       "      <td>18</td>\n",
       "    </tr>\n",
       "  </tbody>\n",
       "</table>\n",
       "</div>"
      ],
      "text/plain": [
       "          pH\n",
       "quality     \n",
       "3         10\n",
       "4         53\n",
       "5        681\n",
       "6        638\n",
       "7        199\n",
       "8         18"
      ]
     },
     "execution_count": 114,
     "metadata": {},
     "output_type": "execute_result"
    }
   ],
   "source": [
    "grouped_data_pH = data.groupby('quality')['pH'].count()\n",
    "grouped_data_pH = pd.DataFrame(grouped_data_pH)\n",
    "grouped_data_pH"
   ]
  },
  {
   "cell_type": "code",
   "execution_count": 115,
   "metadata": {},
   "outputs": [
    {
     "data": {
      "image/png": "[encoded data removed]",
      "text/plain": [
       "<Figure size 1440x360 with 3 Axes>"
      ]
     },
     "metadata": {
      "needs_background": "light"
     },
     "output_type": "display_data"
    }
   ],
   "source": [
    "fig, axes = plt.subplots(1, 3, figsize=(20,5))\n",
    "\n",
    "diverging_colors = sns.set_palette('flare', 9)\n",
    "sns.scatterplot(x='quality', y='pH', data=data, ax=axes[0])\n",
    "sns.lineplot(x='quality', y='pH', data=data, ax=axes[1])\n",
    "sns.barplot(x='pH', y=grouped_data_pH.index, data=grouped_data_pH,  ax=axes[2], palette = diverging_colors)\n",
    "\n",
    "fig.suptitle('Visualizing the relationship of alcohol with pH', fontsize=15)\n",
    "plt.show()"
   ]
  },
  {
   "cell_type": "code",
   "execution_count": 118,
   "metadata": {},
   "outputs": [
    {
     "data": {
      "image/png": "[encoded data removed]",
      "text/plain": [
       "<Figure size 720x432 with 1 Axes>"
      ]
     },
     "metadata": {},
     "output_type": "display_data"
    }
   ],
   "source": [
    "custom_palette = sns.color_palette(\"Set3\", len(grouped_data_pH))\n",
    "plt.figure(figsize=(10, 6))\n",
    "plt.pie(\n",
    "    grouped_data_pH['pH'],\n",
    "    labels=grouped_data_pH.index,\n",
    "    autopct='%1.1f%%',\n",
    "    wedgeprops={'width': 0.4, 'edgecolor': 'w'},\n",
    "    colors = custom_palette\n",
    ")\n",
    "\n",
    "center_circle = plt.Circle((0, 0), 0.70, fc='white') \n",
    "fig = plt.gcf()\n",
    "fig.gca().add_artist(center_circle)\n",
    "\n",
    "plt.title('Visualizing how pH values affect the quality of wine', fontsize=15)\n",
    "\n",
    "plt.axis('equal')\n",
    "plt.tight_layout()\n",
    "plt.show()\n"
   ]
  },
  {
   "cell_type": "markdown",
   "metadata": {},
   "source": [
    "Therefore, we can see that most pH values correspond to a wine quality of either 5 or 6"
   ]
  },
  {
   "cell_type": "code",
   "execution_count": 116,
   "metadata": {},
   "outputs": [
    {
     "data": {
      "text/html": [
       "<div>\n",
       "<style scoped>\n",
       "    .dataframe tbody tr th:only-of-type {\n",
       "        vertical-align: middle;\n",
       "    }\n",
       "\n",
       "    .dataframe tbody tr th {\n",
       "        vertical-align: top;\n",
       "    }\n",
       "\n",
       "    .dataframe thead th {\n",
       "        text-align: right;\n",
       "    }\n",
       "</style>\n",
       "<table border=\"1\" class=\"dataframe\">\n",
       "  <thead>\n",
       "    <tr style=\"text-align: right;\">\n",
       "      <th></th>\n",
       "      <th>free sulfur dioxide</th>\n",
       "    </tr>\n",
       "    <tr>\n",
       "      <th>quality</th>\n",
       "      <th></th>\n",
       "    </tr>\n",
       "  </thead>\n",
       "  <tbody>\n",
       "    <tr>\n",
       "      <th>3</th>\n",
       "      <td>10</td>\n",
       "    </tr>\n",
       "    <tr>\n",
       "      <th>4</th>\n",
       "      <td>53</td>\n",
       "    </tr>\n",
       "    <tr>\n",
       "      <th>5</th>\n",
       "      <td>681</td>\n",
       "    </tr>\n",
       "    <tr>\n",
       "      <th>6</th>\n",
       "      <td>638</td>\n",
       "    </tr>\n",
       "    <tr>\n",
       "      <th>7</th>\n",
       "      <td>199</td>\n",
       "    </tr>\n",
       "    <tr>\n",
       "      <th>8</th>\n",
       "      <td>18</td>\n",
       "    </tr>\n",
       "  </tbody>\n",
       "</table>\n",
       "</div>"
      ],
      "text/plain": [
       "         free sulfur dioxide\n",
       "quality                     \n",
       "3                         10\n",
       "4                         53\n",
       "5                        681\n",
       "6                        638\n",
       "7                        199\n",
       "8                         18"
      ]
     },
     "execution_count": 116,
     "metadata": {},
     "output_type": "execute_result"
    }
   ],
   "source": [
    "grouped_data_sulfur = data.groupby('quality')['free sulfur dioxide'].count()\n",
    "grouped_data_sulfur = pd.DataFrame(grouped_data_sulfur)\n",
    "grouped_data_sulfur"
   ]
  },
  {
   "cell_type": "code",
   "execution_count": 117,
   "metadata": {},
   "outputs": [
    {
     "data": {
      "image/png": "[encoded data removed]",
      "text/plain": [
       "<Figure size 1440x360 with 3 Axes>"
      ]
     },
     "metadata": {
      "needs_background": "light"
     },
     "output_type": "display_data"
    }
   ],
   "source": [
    "fig, axes = plt.subplots(1, 3, figsize=(20,5))\n",
    "\n",
    "diverging_colors = sns.set_palette('Paired', 10)\n",
    "sns.scatterplot(x='quality', y='free sulfur dioxide', data=data, ax=axes[0])\n",
    "sns.lineplot(x='quality', y='free sulfur dioxide', data=data, ax=axes[1])\n",
    "sns.barplot(x='free sulfur dioxide', y=grouped_data_sulfur.index, data=grouped_data_sulfur,  ax=axes[2], palette = diverging_colors)\n",
    "\n",
    "fig.suptitle('Visualizing the relationship of alcohol with free sulfur dioxide', fontsize=15)\n",
    "plt.show()"
   ]
  },
  {
   "cell_type": "code",
   "execution_count": 119,
   "metadata": {},
   "outputs": [],
   "source": [
    "data = data.drop(['residual sugar', 'free sulfur dioxide', 'pH'], axis=1)"
   ]
  },
  {
   "cell_type": "markdown",
   "metadata": {},
   "source": [
    "### Scaling the data"
   ]
  },
  {
   "cell_type": "code",
   "execution_count": 163,
   "metadata": {},
   "outputs": [
    {
     "data": {
      "text/html": [
       "<div>\n",
       "<style scoped>\n",
       "    .dataframe tbody tr th:only-of-type {\n",
       "        vertical-align: middle;\n",
       "    }\n",
       "\n",
       "    .dataframe tbody tr th {\n",
       "        vertical-align: top;\n",
       "    }\n",
       "\n",
       "    .dataframe thead th {\n",
       "        text-align: right;\n",
       "    }\n",
       "</style>\n",
       "<table border=\"1\" class=\"dataframe\">\n",
       "  <thead>\n",
       "    <tr style=\"text-align: right;\">\n",
       "      <th></th>\n",
       "      <th>fixed acidity</th>\n",
       "      <th>volatile acidity</th>\n",
       "      <th>citric acid</th>\n",
       "      <th>chlorides</th>\n",
       "      <th>total sulfur dioxide</th>\n",
       "      <th>density</th>\n",
       "      <th>sulphates</th>\n",
       "      <th>alcohol</th>\n",
       "    </tr>\n",
       "  </thead>\n",
       "  <tbody>\n",
       "    <tr>\n",
       "      <th>0</th>\n",
       "      <td>7.4</td>\n",
       "      <td>0.700</td>\n",
       "      <td>0.00</td>\n",
       "      <td>0.076</td>\n",
       "      <td>34.0</td>\n",
       "      <td>0.99780</td>\n",
       "      <td>0.56</td>\n",
       "      <td>9.4</td>\n",
       "    </tr>\n",
       "    <tr>\n",
       "      <th>1</th>\n",
       "      <td>7.8</td>\n",
       "      <td>0.880</td>\n",
       "      <td>0.00</td>\n",
       "      <td>0.098</td>\n",
       "      <td>67.0</td>\n",
       "      <td>0.99680</td>\n",
       "      <td>0.68</td>\n",
       "      <td>9.8</td>\n",
       "    </tr>\n",
       "    <tr>\n",
       "      <th>2</th>\n",
       "      <td>7.8</td>\n",
       "      <td>0.760</td>\n",
       "      <td>0.04</td>\n",
       "      <td>0.092</td>\n",
       "      <td>54.0</td>\n",
       "      <td>0.99700</td>\n",
       "      <td>0.65</td>\n",
       "      <td>9.8</td>\n",
       "    </tr>\n",
       "    <tr>\n",
       "      <th>3</th>\n",
       "      <td>11.2</td>\n",
       "      <td>0.280</td>\n",
       "      <td>0.56</td>\n",
       "      <td>0.075</td>\n",
       "      <td>60.0</td>\n",
       "      <td>0.99800</td>\n",
       "      <td>0.58</td>\n",
       "      <td>9.8</td>\n",
       "    </tr>\n",
       "    <tr>\n",
       "      <th>4</th>\n",
       "      <td>7.4</td>\n",
       "      <td>0.700</td>\n",
       "      <td>0.00</td>\n",
       "      <td>0.076</td>\n",
       "      <td>34.0</td>\n",
       "      <td>0.99780</td>\n",
       "      <td>0.56</td>\n",
       "      <td>9.4</td>\n",
       "    </tr>\n",
       "    <tr>\n",
       "      <th>...</th>\n",
       "      <td>...</td>\n",
       "      <td>...</td>\n",
       "      <td>...</td>\n",
       "      <td>...</td>\n",
       "      <td>...</td>\n",
       "      <td>...</td>\n",
       "      <td>...</td>\n",
       "      <td>...</td>\n",
       "    </tr>\n",
       "    <tr>\n",
       "      <th>1594</th>\n",
       "      <td>6.2</td>\n",
       "      <td>0.600</td>\n",
       "      <td>0.08</td>\n",
       "      <td>0.090</td>\n",
       "      <td>44.0</td>\n",
       "      <td>0.99490</td>\n",
       "      <td>0.58</td>\n",
       "      <td>10.5</td>\n",
       "    </tr>\n",
       "    <tr>\n",
       "      <th>1595</th>\n",
       "      <td>5.9</td>\n",
       "      <td>0.550</td>\n",
       "      <td>0.10</td>\n",
       "      <td>0.062</td>\n",
       "      <td>51.0</td>\n",
       "      <td>0.99512</td>\n",
       "      <td>0.76</td>\n",
       "      <td>11.2</td>\n",
       "    </tr>\n",
       "    <tr>\n",
       "      <th>1596</th>\n",
       "      <td>6.3</td>\n",
       "      <td>0.510</td>\n",
       "      <td>0.13</td>\n",
       "      <td>0.076</td>\n",
       "      <td>40.0</td>\n",
       "      <td>0.99574</td>\n",
       "      <td>0.75</td>\n",
       "      <td>11.0</td>\n",
       "    </tr>\n",
       "    <tr>\n",
       "      <th>1597</th>\n",
       "      <td>5.9</td>\n",
       "      <td>0.645</td>\n",
       "      <td>0.12</td>\n",
       "      <td>0.075</td>\n",
       "      <td>44.0</td>\n",
       "      <td>0.99547</td>\n",
       "      <td>0.71</td>\n",
       "      <td>10.2</td>\n",
       "    </tr>\n",
       "    <tr>\n",
       "      <th>1598</th>\n",
       "      <td>6.0</td>\n",
       "      <td>0.310</td>\n",
       "      <td>0.47</td>\n",
       "      <td>0.067</td>\n",
       "      <td>42.0</td>\n",
       "      <td>0.99549</td>\n",
       "      <td>0.66</td>\n",
       "      <td>11.0</td>\n",
       "    </tr>\n",
       "  </tbody>\n",
       "</table>\n",
       "<p>1599 rows × 8 columns</p>\n",
       "</div>"
      ],
      "text/plain": [
       "      fixed acidity  volatile acidity  citric acid  chlorides  \\\n",
       "0               7.4             0.700         0.00      0.076   \n",
       "1               7.8             0.880         0.00      0.098   \n",
       "2               7.8             0.760         0.04      0.092   \n",
       "3              11.2             0.280         0.56      0.075   \n",
       "4               7.4             0.700         0.00      0.076   \n",
       "...             ...               ...          ...        ...   \n",
       "1594            6.2             0.600         0.08      0.090   \n",
       "1595            5.9             0.550         0.10      0.062   \n",
       "1596            6.3             0.510         0.13      0.076   \n",
       "1597            5.9             0.645         0.12      0.075   \n",
       "1598            6.0             0.310         0.47      0.067   \n",
       "\n",
       "      total sulfur dioxide  density  sulphates  alcohol  \n",
       "0                     34.0  0.99780       0.56      9.4  \n",
       "1                     67.0  0.99680       0.68      9.8  \n",
       "2                     54.0  0.99700       0.65      9.8  \n",
       "3                     60.0  0.99800       0.58      9.8  \n",
       "4                     34.0  0.99780       0.56      9.4  \n",
       "...                    ...      ...        ...      ...  \n",
       "1594                  44.0  0.99490       0.58     10.5  \n",
       "1595                  51.0  0.99512       0.76     11.2  \n",
       "1596                  40.0  0.99574       0.75     11.0  \n",
       "1597                  44.0  0.99547       0.71     10.2  \n",
       "1598                  42.0  0.99549       0.66     11.0  \n",
       "\n",
       "[1599 rows x 8 columns]"
      ]
     },
     "execution_count": 163,
     "metadata": {},
     "output_type": "execute_result"
    }
   ],
   "source": [
    "y = data['quality']\n",
    "x = data.drop(['quality'], axis=1)\n",
    "x"
   ]
  },
  {
   "cell_type": "code",
   "execution_count": 164,
   "metadata": {},
   "outputs": [
    {
     "data": {
      "text/plain": [
       "array([[-0.52835961,  0.96187667, -1.39147228, ...,  0.55827446,\n",
       "        -0.57920652, -0.96024611],\n",
       "       [-0.29854743,  1.96744245, -1.39147228, ...,  0.02826077,\n",
       "         0.1289504 , -0.58477711],\n",
       "       [-0.29854743,  1.29706527, -1.18607043, ...,  0.13426351,\n",
       "        -0.04808883, -0.58477711],\n",
       "       ...,\n",
       "       [-1.1603431 , -0.09955388, -0.72391627, ..., -0.53355375,\n",
       "         0.54204194,  0.54162988],\n",
       "       [-1.39015528,  0.65462046, -0.77526673, ..., -0.67665745,\n",
       "         0.30598963, -0.20930812],\n",
       "       [-1.33270223, -1.21684919,  1.02199944, ..., -0.66605717,\n",
       "         0.01092425,  0.54162988]])"
      ]
     },
     "execution_count": 164,
     "metadata": {},
     "output_type": "execute_result"
    }
   ],
   "source": [
    "scaler = StandardScaler()\n",
    "scaled_x = scaler.fit_transform(x)\n",
    "scaled_x"
   ]
  },
  {
   "cell_type": "code",
   "execution_count": 165,
   "metadata": {},
   "outputs": [],
   "source": [
    "x_train, x_test, y_train, y_test = train_test_split(scaled_x, y, test_size=0.25, random_state=1)"
   ]
  },
  {
   "cell_type": "code",
   "execution_count": 166,
   "metadata": {},
   "outputs": [
    {
     "data": {
      "text/plain": [
       "1144    5\n",
       "73      4\n",
       "446     5\n",
       "399     5\n",
       "647     4\n",
       "       ..\n",
       "715     6\n",
       "905     5\n",
       "1096    6\n",
       "235     6\n",
       "1061    8\n",
       "Name: quality, Length: 1199, dtype: int64"
      ]
     },
     "execution_count": 166,
     "metadata": {},
     "output_type": "execute_result"
    }
   ],
   "source": [
    "y_train"
   ]
  },
  {
   "cell_type": "markdown",
   "metadata": {},
   "source": [
    "## Now performing model training "
   ]
  },
  {
   "cell_type": "markdown",
   "metadata": {},
   "source": [
    "### Random Forest Classifier"
   ]
  },
  {
   "cell_type": "code",
   "execution_count": 124,
   "metadata": {},
   "outputs": [
    {
     "data": {
      "text/plain": [
       "RandomForestClassifier()"
      ]
     },
     "execution_count": 124,
     "metadata": {},
     "output_type": "execute_result"
    }
   ],
   "source": [
    "rf = RandomForestClassifier()\n",
    "rf.fit(x_train, y_train)"
   ]
  },
  {
   "cell_type": "code",
   "execution_count": 125,
   "metadata": {},
   "outputs": [
    {
     "name": "stdout",
     "output_type": "stream",
     "text": [
      "0.685\n"
     ]
    }
   ],
   "source": [
    "pred_rf = rf.predict(x_test)\n",
    "print(accuracy_score(pred_rf, y_test))"
   ]
  },
  {
   "cell_type": "markdown",
   "metadata": {},
   "source": [
    "Accuracy of random forest classifier is 68.5%"
   ]
  },
  {
   "cell_type": "markdown",
   "metadata": {},
   "source": [
    "### Decision Tree Classifier"
   ]
  },
  {
   "cell_type": "code",
   "execution_count": 128,
   "metadata": {},
   "outputs": [
    {
     "data": {
      "text/plain": [
       "DecisionTreeClassifier()"
      ]
     },
     "execution_count": 128,
     "metadata": {},
     "output_type": "execute_result"
    }
   ],
   "source": [
    "dt = DecisionTreeClassifier()\n",
    "dt.fit(x_train, y_train)"
   ]
  },
  {
   "cell_type": "code",
   "execution_count": 129,
   "metadata": {},
   "outputs": [
    {
     "name": "stdout",
     "output_type": "stream",
     "text": [
      "0.64\n"
     ]
    }
   ],
   "source": [
    "pred_dt = dt.predict(x_test)\n",
    "print(accuracy_score(pred_dt, y_test))"
   ]
  },
  {
   "cell_type": "markdown",
   "metadata": {},
   "source": [
    "Accuracy of decision tree classifier is 64%"
   ]
  },
  {
   "cell_type": "markdown",
   "metadata": {},
   "source": [
    "### XGBoost"
   ]
  },
  {
   "cell_type": "code",
   "execution_count": 130,
   "metadata": {},
   "outputs": [
    {
     "data": {
      "text/plain": [
       "array([2, 2, 2, ..., 3, 2, 3], dtype=int64)"
      ]
     },
     "execution_count": 130,
     "metadata": {},
     "output_type": "execute_result"
    }
   ],
   "source": [
    "label_encoder = LabelEncoder()\n",
    "y_encoded = label_encoder.fit_transform(y)\n",
    "y_encoded"
   ]
  },
  {
   "cell_type": "code",
   "execution_count": 131,
   "metadata": {},
   "outputs": [],
   "source": [
    "x_train, x_test, y_train, y_test = train_test_split(x, y_encoded, test_size=0.25, random_state=1)"
   ]
  },
  {
   "cell_type": "code",
   "execution_count": 132,
   "metadata": {},
   "outputs": [
    {
     "data": {
      "text/plain": [
       "XGBClassifier(base_score=None, booster=None, callbacks=None,\n",
       "              colsample_bylevel=None, colsample_bynode=None,\n",
       "              colsample_bytree=None, early_stopping_rounds=None,\n",
       "              enable_categorical=False, eval_metric=None, feature_types=None,\n",
       "              gamma=None, gpu_id=None, grow_policy=None, importance_type=None,\n",
       "              interaction_constraints=None, learning_rate=None, max_bin=None,\n",
       "              max_cat_threshold=None, max_cat_to_onehot=None,\n",
       "              max_delta_step=None, max_depth=None, max_leaves=None,\n",
       "              min_child_weight=None, missing=nan, monotone_constraints=None,\n",
       "              n_estimators=100, n_jobs=None, num_parallel_tree=None,\n",
       "              objective='multi:softprob', predictor=None, ...)"
      ]
     },
     "execution_count": 132,
     "metadata": {},
     "output_type": "execute_result"
    }
   ],
   "source": [
    "xgb = XGBClassifier()\n",
    "xgb.fit(x_train, y_train)"
   ]
  },
  {
   "cell_type": "code",
   "execution_count": 133,
   "metadata": {},
   "outputs": [
    {
     "name": "stdout",
     "output_type": "stream",
     "text": [
      "0.68\n"
     ]
    }
   ],
   "source": [
    "pred_xgb = xgb.predict(x_test)\n",
    "print(accuracy_score(pred_xgb, y_test))"
   ]
  },
  {
   "cell_type": "markdown",
   "metadata": {},
   "source": [
    "Accuracy of XGBoost is 68%"
   ]
  },
  {
   "cell_type": "markdown",
   "metadata": {},
   "source": [
    "### Support Vector Machine"
   ]
  },
  {
   "cell_type": "code",
   "execution_count": 134,
   "metadata": {},
   "outputs": [
    {
     "data": {
      "text/plain": [
       "SVC(kernel='linear', random_state=42)"
      ]
     },
     "execution_count": 134,
     "metadata": {},
     "output_type": "execute_result"
    }
   ],
   "source": [
    "svm_classifier = SVC(kernel='linear', C=1.0, random_state=42)\n",
    "svm_classifier.fit(x_train, y_train)"
   ]
  },
  {
   "cell_type": "code",
   "execution_count": 135,
   "metadata": {},
   "outputs": [
    {
     "data": {
      "text/plain": [
       "0.6025"
      ]
     },
     "execution_count": 135,
     "metadata": {},
     "output_type": "execute_result"
    }
   ],
   "source": [
    "pred = svm_classifier.predict(x_test)\n",
    "accuracy_score(pred, y_test)"
   ]
  },
  {
   "cell_type": "markdown",
   "metadata": {},
   "source": [
    "Accuracy of Support Vector Machine is 60.25%"
   ]
  },
  {
   "cell_type": "markdown",
   "metadata": {},
   "source": [
    "### Neural Network"
   ]
  },
  {
   "cell_type": "code",
   "execution_count": 136,
   "metadata": {},
   "outputs": [],
   "source": [
    "from tensorflow.keras.utils import to_categorical\n",
    "y = to_categorical(y - 3) \n",
    "x_train, x_test, y_train, y_test = train_test_split(scaled_x, y, test_size=0.25, random_state=1)"
   ]
  },
  {
   "cell_type": "code",
   "execution_count": 137,
   "metadata": {},
   "outputs": [],
   "source": [
    "model = keras.Sequential([\n",
    "    layers.Input(shape=(x_train.shape[1],)),\n",
    "    layers.Dense(64, activation='relu'),\n",
    "    layers.Dropout(0.25),\n",
    "    layers.Dense(32, activation='relu'),\n",
    "    layers.Dropout(0.25),\n",
    "    layers.Dense(6, activation='softmax')\n",
    "])"
   ]
  },
  {
   "cell_type": "code",
   "execution_count": 138,
   "metadata": {},
   "outputs": [],
   "source": [
    "model.compile(optimizer=Adam(learning_rate=0.001), loss='categorical_crossentropy', metrics=['accuracy'])"
   ]
  },
  {
   "cell_type": "code",
   "execution_count": 139,
   "metadata": {},
   "outputs": [
    {
     "name": "stdout",
     "output_type": "stream",
     "text": [
      "Epoch 1/300\n",
      "96/96 [==============================] - 2s 7ms/step - loss: 1.4856 - accuracy: 0.4025 - val_loss: 1.1519 - val_accuracy: 0.4958\n",
      "Epoch 2/300\n",
      "96/96 [==============================] - 0s 5ms/step - loss: 1.1497 - accuracy: 0.5245 - val_loss: 1.0376 - val_accuracy: 0.5583\n",
      "Epoch 3/300\n",
      "96/96 [==============================] - 0s 4ms/step - loss: 1.0726 - accuracy: 0.5558 - val_loss: 1.0063 - val_accuracy: 0.5917\n",
      "Epoch 4/300\n",
      "96/96 [==============================] - 0s 5ms/step - loss: 1.0537 - accuracy: 0.5860 - val_loss: 0.9810 - val_accuracy: 0.5875\n",
      "Epoch 5/300\n",
      "96/96 [==============================] - 1s 8ms/step - loss: 1.0414 - accuracy: 0.5610 - val_loss: 0.9756 - val_accuracy: 0.5792\n",
      "Epoch 6/300\n",
      "96/96 [==============================] - 0s 4ms/step - loss: 1.0305 - accuracy: 0.5777 - val_loss: 0.9674 - val_accuracy: 0.5750\n",
      "Epoch 7/300\n",
      "96/96 [==============================] - 0s 4ms/step - loss: 1.0070 - accuracy: 0.5798 - val_loss: 0.9607 - val_accuracy: 0.5917\n",
      "Epoch 8/300\n",
      "96/96 [==============================] - 0s 4ms/step - loss: 0.9922 - accuracy: 0.5839 - val_loss: 0.9570 - val_accuracy: 0.5833\n",
      "Epoch 9/300\n",
      "96/96 [==============================] - 0s 4ms/step - loss: 0.9886 - accuracy: 0.5860 - val_loss: 0.9548 - val_accuracy: 0.6208\n",
      "Epoch 10/300\n",
      "96/96 [==============================] - 0s 4ms/step - loss: 0.9846 - accuracy: 0.5860 - val_loss: 0.9501 - val_accuracy: 0.6250\n",
      "Epoch 11/300\n",
      "96/96 [==============================] - 0s 4ms/step - loss: 0.9690 - accuracy: 0.6121 - val_loss: 0.9438 - val_accuracy: 0.6042\n",
      "Epoch 12/300\n",
      "96/96 [==============================] - 0s 4ms/step - loss: 0.9591 - accuracy: 0.5912 - val_loss: 0.9405 - val_accuracy: 0.5917\n",
      "Epoch 13/300\n",
      "96/96 [==============================] - 0s 4ms/step - loss: 0.9758 - accuracy: 0.5996 - val_loss: 0.9405 - val_accuracy: 0.6167\n",
      "Epoch 14/300\n",
      "96/96 [==============================] - 0s 4ms/step - loss: 0.9533 - accuracy: 0.6111 - val_loss: 0.9320 - val_accuracy: 0.6208\n",
      "Epoch 15/300\n",
      "96/96 [==============================] - 0s 4ms/step - loss: 0.9426 - accuracy: 0.6017 - val_loss: 0.9342 - val_accuracy: 0.6125\n",
      "Epoch 16/300\n",
      "96/96 [==============================] - 0s 4ms/step - loss: 0.9628 - accuracy: 0.6048 - val_loss: 0.9381 - val_accuracy: 0.6042\n",
      "Epoch 17/300\n",
      "96/96 [==============================] - 0s 5ms/step - loss: 0.9372 - accuracy: 0.6204 - val_loss: 0.9383 - val_accuracy: 0.6083\n",
      "Epoch 18/300\n",
      "96/96 [==============================] - 0s 4ms/step - loss: 0.9282 - accuracy: 0.6173 - val_loss: 0.9363 - val_accuracy: 0.6125\n",
      "Epoch 19/300\n",
      "96/96 [==============================] - 0s 4ms/step - loss: 0.9417 - accuracy: 0.6131 - val_loss: 0.9408 - val_accuracy: 0.6208\n",
      "Epoch 20/300\n",
      "96/96 [==============================] - 0s 4ms/step - loss: 0.9315 - accuracy: 0.6257 - val_loss: 0.9379 - val_accuracy: 0.6042\n",
      "Epoch 21/300\n",
      "96/96 [==============================] - 0s 4ms/step - loss: 0.9239 - accuracy: 0.6121 - val_loss: 0.9365 - val_accuracy: 0.6083\n",
      "Epoch 22/300\n",
      "96/96 [==============================] - 0s 4ms/step - loss: 0.9213 - accuracy: 0.6340 - val_loss: 0.9369 - val_accuracy: 0.6208\n",
      "Epoch 23/300\n",
      "96/96 [==============================] - 0s 4ms/step - loss: 0.9131 - accuracy: 0.6184 - val_loss: 0.9331 - val_accuracy: 0.5958\n",
      "Epoch 24/300\n",
      "96/96 [==============================] - 0s 4ms/step - loss: 0.9194 - accuracy: 0.6163 - val_loss: 0.9339 - val_accuracy: 0.6167\n",
      "Epoch 25/300\n",
      "96/96 [==============================] - 0s 4ms/step - loss: 0.9139 - accuracy: 0.6163 - val_loss: 0.9309 - val_accuracy: 0.6250\n",
      "Epoch 26/300\n",
      "96/96 [==============================] - 0s 4ms/step - loss: 0.9181 - accuracy: 0.6027 - val_loss: 0.9235 - val_accuracy: 0.6125\n",
      "Epoch 27/300\n",
      "96/96 [==============================] - 0s 4ms/step - loss: 0.9018 - accuracy: 0.6090 - val_loss: 0.9266 - val_accuracy: 0.6125\n",
      "Epoch 28/300\n",
      "96/96 [==============================] - 0s 5ms/step - loss: 0.9163 - accuracy: 0.6163 - val_loss: 0.9302 - val_accuracy: 0.6250\n",
      "Epoch 29/300\n",
      "96/96 [==============================] - 0s 4ms/step - loss: 0.9059 - accuracy: 0.6100 - val_loss: 0.9296 - val_accuracy: 0.6167\n",
      "Epoch 30/300\n",
      "96/96 [==============================] - 0s 4ms/step - loss: 0.9004 - accuracy: 0.6257 - val_loss: 0.9260 - val_accuracy: 0.6167\n",
      "Epoch 31/300\n",
      "96/96 [==============================] - 0s 4ms/step - loss: 0.8942 - accuracy: 0.6204 - val_loss: 0.9215 - val_accuracy: 0.6333\n",
      "Epoch 32/300\n",
      "96/96 [==============================] - 0s 3ms/step - loss: 0.8955 - accuracy: 0.6382 - val_loss: 0.9267 - val_accuracy: 0.6167\n",
      "Epoch 33/300\n",
      "96/96 [==============================] - 0s 3ms/step - loss: 0.8931 - accuracy: 0.6298 - val_loss: 0.9289 - val_accuracy: 0.6208\n",
      "Epoch 34/300\n",
      "96/96 [==============================] - 0s 3ms/step - loss: 0.8888 - accuracy: 0.6319 - val_loss: 0.9261 - val_accuracy: 0.6292\n",
      "Epoch 35/300\n",
      "96/96 [==============================] - 0s 4ms/step - loss: 0.8950 - accuracy: 0.6152 - val_loss: 0.9246 - val_accuracy: 0.6208\n",
      "Epoch 36/300\n",
      "96/96 [==============================] - 0s 4ms/step - loss: 0.8971 - accuracy: 0.6152 - val_loss: 0.9211 - val_accuracy: 0.6208\n",
      "Epoch 37/300\n",
      "96/96 [==============================] - 0s 4ms/step - loss: 0.8868 - accuracy: 0.6382 - val_loss: 0.9254 - val_accuracy: 0.6250\n",
      "Epoch 38/300\n",
      "96/96 [==============================] - 0s 3ms/step - loss: 0.8941 - accuracy: 0.6225 - val_loss: 0.9186 - val_accuracy: 0.6250\n",
      "Epoch 39/300\n",
      "96/96 [==============================] - 0s 4ms/step - loss: 0.8605 - accuracy: 0.6444 - val_loss: 0.9267 - val_accuracy: 0.6125\n",
      "Epoch 40/300\n",
      "96/96 [==============================] - 0s 4ms/step - loss: 0.8818 - accuracy: 0.6298 - val_loss: 0.9230 - val_accuracy: 0.6000\n",
      "Epoch 41/300\n",
      "96/96 [==============================] - 0s 4ms/step - loss: 0.8620 - accuracy: 0.6403 - val_loss: 0.9239 - val_accuracy: 0.6250\n",
      "Epoch 42/300\n",
      "96/96 [==============================] - 0s 4ms/step - loss: 0.8749 - accuracy: 0.6204 - val_loss: 0.9311 - val_accuracy: 0.6250\n",
      "Epoch 43/300\n",
      "96/96 [==============================] - 0s 3ms/step - loss: 0.8620 - accuracy: 0.6340 - val_loss: 0.9347 - val_accuracy: 0.6250\n",
      "Epoch 44/300\n",
      "96/96 [==============================] - 0s 4ms/step - loss: 0.8858 - accuracy: 0.6330 - val_loss: 0.9288 - val_accuracy: 0.6125\n",
      "Epoch 45/300\n",
      "96/96 [==============================] - 0s 4ms/step - loss: 0.8664 - accuracy: 0.6475 - val_loss: 0.9287 - val_accuracy: 0.6250\n",
      "Epoch 46/300\n",
      "96/96 [==============================] - 0s 4ms/step - loss: 0.8571 - accuracy: 0.6330 - val_loss: 0.9365 - val_accuracy: 0.6083\n",
      "Epoch 47/300\n",
      "96/96 [==============================] - 0s 4ms/step - loss: 0.8562 - accuracy: 0.6340 - val_loss: 0.9437 - val_accuracy: 0.6167\n",
      "Epoch 48/300\n",
      "96/96 [==============================] - 0s 3ms/step - loss: 0.8565 - accuracy: 0.6267 - val_loss: 0.9319 - val_accuracy: 0.6208\n",
      "Epoch 49/300\n",
      "96/96 [==============================] - 0s 4ms/step - loss: 0.8519 - accuracy: 0.6496 - val_loss: 0.9456 - val_accuracy: 0.6208\n",
      "Epoch 50/300\n",
      "96/96 [==============================] - 0s 4ms/step - loss: 0.8677 - accuracy: 0.6267 - val_loss: 0.9423 - val_accuracy: 0.6083\n",
      "Epoch 51/300\n",
      "96/96 [==============================] - 0s 4ms/step - loss: 0.8605 - accuracy: 0.6528 - val_loss: 0.9367 - val_accuracy: 0.6167\n",
      "Epoch 52/300\n",
      "96/96 [==============================] - 1s 8ms/step - loss: 0.8539 - accuracy: 0.6538 - val_loss: 0.9363 - val_accuracy: 0.6292\n",
      "Epoch 53/300\n",
      "96/96 [==============================] - 1s 5ms/step - loss: 0.8414 - accuracy: 0.6455 - val_loss: 0.9394 - val_accuracy: 0.6250\n",
      "Epoch 54/300\n",
      "96/96 [==============================] - 1s 6ms/step - loss: 0.8617 - accuracy: 0.6277 - val_loss: 0.9351 - val_accuracy: 0.6250\n",
      "Epoch 55/300\n",
      "96/96 [==============================] - 0s 5ms/step - loss: 0.8396 - accuracy: 0.6455 - val_loss: 0.9420 - val_accuracy: 0.6250\n",
      "Epoch 56/300\n",
      "96/96 [==============================] - 0s 5ms/step - loss: 0.8389 - accuracy: 0.6392 - val_loss: 0.9434 - val_accuracy: 0.6167\n",
      "Epoch 57/300\n",
      "96/96 [==============================] - 0s 5ms/step - loss: 0.8324 - accuracy: 0.6507 - val_loss: 0.9422 - val_accuracy: 0.6167\n",
      "Epoch 58/300\n",
      "96/96 [==============================] - 0s 5ms/step - loss: 0.8321 - accuracy: 0.6434 - val_loss: 0.9453 - val_accuracy: 0.6250\n"
     ]
    },
    {
     "name": "stdout",
     "output_type": "stream",
     "text": [
      "Epoch 59/300\n",
      "96/96 [==============================] - 0s 4ms/step - loss: 0.8269 - accuracy: 0.6475 - val_loss: 0.9437 - val_accuracy: 0.6167\n",
      "Epoch 60/300\n",
      "96/96 [==============================] - 0s 4ms/step - loss: 0.8391 - accuracy: 0.6423 - val_loss: 0.9445 - val_accuracy: 0.6167\n",
      "Epoch 61/300\n",
      "96/96 [==============================] - 0s 4ms/step - loss: 0.8524 - accuracy: 0.6319 - val_loss: 0.9396 - val_accuracy: 0.6333\n",
      "Epoch 62/300\n",
      "96/96 [==============================] - 0s 3ms/step - loss: 0.8399 - accuracy: 0.6475 - val_loss: 0.9427 - val_accuracy: 0.6208\n",
      "Epoch 63/300\n",
      "96/96 [==============================] - 0s 3ms/step - loss: 0.8377 - accuracy: 0.6569 - val_loss: 0.9382 - val_accuracy: 0.6333\n",
      "Epoch 64/300\n",
      "96/96 [==============================] - 0s 3ms/step - loss: 0.8440 - accuracy: 0.6403 - val_loss: 0.9400 - val_accuracy: 0.6333\n",
      "Epoch 65/300\n",
      "96/96 [==============================] - 0s 3ms/step - loss: 0.8197 - accuracy: 0.6361 - val_loss: 0.9422 - val_accuracy: 0.6292\n",
      "Epoch 66/300\n",
      "96/96 [==============================] - 0s 3ms/step - loss: 0.8436 - accuracy: 0.6465 - val_loss: 0.9497 - val_accuracy: 0.6208\n",
      "Epoch 67/300\n",
      "96/96 [==============================] - 0s 4ms/step - loss: 0.8270 - accuracy: 0.6538 - val_loss: 0.9442 - val_accuracy: 0.6333\n",
      "Epoch 68/300\n",
      "96/96 [==============================] - 0s 3ms/step - loss: 0.8152 - accuracy: 0.6621 - val_loss: 0.9391 - val_accuracy: 0.6250\n",
      "Epoch 69/300\n",
      "96/96 [==============================] - 0s 4ms/step - loss: 0.8205 - accuracy: 0.6538 - val_loss: 0.9445 - val_accuracy: 0.6167\n",
      "Epoch 70/300\n",
      "96/96 [==============================] - 0s 3ms/step - loss: 0.8054 - accuracy: 0.6538 - val_loss: 0.9488 - val_accuracy: 0.6125\n",
      "Epoch 71/300\n",
      "96/96 [==============================] - 0s 3ms/step - loss: 0.8181 - accuracy: 0.6559 - val_loss: 0.9529 - val_accuracy: 0.6167\n",
      "Epoch 72/300\n",
      "96/96 [==============================] - 0s 3ms/step - loss: 0.7956 - accuracy: 0.6840 - val_loss: 0.9660 - val_accuracy: 0.6208\n",
      "Epoch 73/300\n",
      "96/96 [==============================] - 0s 3ms/step - loss: 0.8291 - accuracy: 0.6371 - val_loss: 0.9579 - val_accuracy: 0.5875\n",
      "Epoch 74/300\n",
      "96/96 [==============================] - 0s 3ms/step - loss: 0.8173 - accuracy: 0.6455 - val_loss: 0.9570 - val_accuracy: 0.6250\n",
      "Epoch 75/300\n",
      "96/96 [==============================] - 0s 3ms/step - loss: 0.8117 - accuracy: 0.6434 - val_loss: 0.9630 - val_accuracy: 0.6208\n",
      "Epoch 76/300\n",
      "96/96 [==============================] - 0s 3ms/step - loss: 0.8390 - accuracy: 0.6434 - val_loss: 0.9448 - val_accuracy: 0.6292\n",
      "Epoch 77/300\n",
      "96/96 [==============================] - 0s 3ms/step - loss: 0.7958 - accuracy: 0.6663 - val_loss: 0.9422 - val_accuracy: 0.6458\n",
      "Epoch 78/300\n",
      "96/96 [==============================] - 0s 3ms/step - loss: 0.7986 - accuracy: 0.6590 - val_loss: 0.9547 - val_accuracy: 0.6208\n",
      "Epoch 79/300\n",
      "96/96 [==============================] - 0s 3ms/step - loss: 0.7854 - accuracy: 0.6653 - val_loss: 0.9557 - val_accuracy: 0.6250\n",
      "Epoch 80/300\n",
      "96/96 [==============================] - 1s 7ms/step - loss: 0.7951 - accuracy: 0.6642 - val_loss: 0.9595 - val_accuracy: 0.6167\n",
      "Epoch 81/300\n",
      "96/96 [==============================] - 1s 9ms/step - loss: 0.8332 - accuracy: 0.6434 - val_loss: 0.9557 - val_accuracy: 0.6167\n",
      "Epoch 82/300\n",
      "96/96 [==============================] - 1s 7ms/step - loss: 0.8192 - accuracy: 0.6507 - val_loss: 0.9506 - val_accuracy: 0.6208\n",
      "Epoch 83/300\n",
      "96/96 [==============================] - 0s 4ms/step - loss: 0.8065 - accuracy: 0.6590 - val_loss: 0.9570 - val_accuracy: 0.6125\n",
      "Epoch 84/300\n",
      "96/96 [==============================] - 1s 10ms/step - loss: 0.8093 - accuracy: 0.6674 - val_loss: 0.9493 - val_accuracy: 0.6167\n",
      "Epoch 85/300\n",
      "96/96 [==============================] - 1s 8ms/step - loss: 0.8040 - accuracy: 0.6611 - val_loss: 0.9554 - val_accuracy: 0.6167\n",
      "Epoch 86/300\n",
      "96/96 [==============================] - 1s 9ms/step - loss: 0.7936 - accuracy: 0.6715 - val_loss: 0.9605 - val_accuracy: 0.6250\n",
      "Epoch 87/300\n",
      "96/96 [==============================] - 0s 4ms/step - loss: 0.7895 - accuracy: 0.6674 - val_loss: 0.9594 - val_accuracy: 0.6125\n",
      "Epoch 88/300\n",
      "96/96 [==============================] - 0s 4ms/step - loss: 0.7981 - accuracy: 0.6548 - val_loss: 0.9572 - val_accuracy: 0.6083\n",
      "Epoch 89/300\n",
      "96/96 [==============================] - 1s 6ms/step - loss: 0.7974 - accuracy: 0.6611 - val_loss: 0.9571 - val_accuracy: 0.6167\n",
      "Epoch 90/300\n",
      "96/96 [==============================] - 1s 5ms/step - loss: 0.8099 - accuracy: 0.6611 - val_loss: 0.9601 - val_accuracy: 0.6167\n",
      "Epoch 91/300\n",
      "96/96 [==============================] - 1s 6ms/step - loss: 0.7861 - accuracy: 0.6694 - val_loss: 0.9523 - val_accuracy: 0.6250\n",
      "Epoch 92/300\n",
      "96/96 [==============================] - 0s 4ms/step - loss: 0.7861 - accuracy: 0.6684 - val_loss: 0.9598 - val_accuracy: 0.6250\n",
      "Epoch 93/300\n",
      "96/96 [==============================] - 0s 4ms/step - loss: 0.8063 - accuracy: 0.6455 - val_loss: 0.9644 - val_accuracy: 0.6167\n",
      "Epoch 94/300\n",
      "96/96 [==============================] - 0s 4ms/step - loss: 0.7942 - accuracy: 0.6601 - val_loss: 0.9666 - val_accuracy: 0.6167\n",
      "Epoch 95/300\n",
      "96/96 [==============================] - 0s 3ms/step - loss: 0.7876 - accuracy: 0.6559 - val_loss: 0.9660 - val_accuracy: 0.6125\n",
      "Epoch 96/300\n",
      "96/96 [==============================] - 0s 3ms/step - loss: 0.7937 - accuracy: 0.6642 - val_loss: 0.9601 - val_accuracy: 0.6167\n",
      "Epoch 97/300\n",
      "96/96 [==============================] - 0s 3ms/step - loss: 0.7939 - accuracy: 0.6642 - val_loss: 0.9572 - val_accuracy: 0.6167\n",
      "Epoch 98/300\n",
      "96/96 [==============================] - 0s 3ms/step - loss: 0.7786 - accuracy: 0.6705 - val_loss: 0.9748 - val_accuracy: 0.6125\n",
      "Epoch 99/300\n",
      "96/96 [==============================] - 0s 3ms/step - loss: 0.7841 - accuracy: 0.6632 - val_loss: 0.9782 - val_accuracy: 0.6083\n",
      "Epoch 100/300\n",
      "96/96 [==============================] - 1s 8ms/step - loss: 0.7807 - accuracy: 0.6632 - val_loss: 0.9717 - val_accuracy: 0.6167\n",
      "Epoch 101/300\n",
      "96/96 [==============================] - 1s 7ms/step - loss: 0.7821 - accuracy: 0.6747 - val_loss: 0.9785 - val_accuracy: 0.6083\n",
      "Epoch 102/300\n",
      "96/96 [==============================] - 1s 5ms/step - loss: 0.7651 - accuracy: 0.6694 - val_loss: 0.9849 - val_accuracy: 0.6083\n",
      "Epoch 103/300\n",
      "96/96 [==============================] - 1s 10ms/step - loss: 0.7975 - accuracy: 0.6423 - val_loss: 0.9768 - val_accuracy: 0.6083\n",
      "Epoch 104/300\n",
      "96/96 [==============================] - 0s 4ms/step - loss: 0.7815 - accuracy: 0.6705 - val_loss: 0.9774 - val_accuracy: 0.6083\n",
      "Epoch 105/300\n",
      "96/96 [==============================] - 0s 4ms/step - loss: 0.7776 - accuracy: 0.6809 - val_loss: 0.9695 - val_accuracy: 0.6125\n",
      "Epoch 106/300\n",
      "96/96 [==============================] - 0s 4ms/step - loss: 0.7673 - accuracy: 0.6684 - val_loss: 0.9748 - val_accuracy: 0.6042\n",
      "Epoch 107/300\n",
      "96/96 [==============================] - 0s 4ms/step - loss: 0.7441 - accuracy: 0.6966 - val_loss: 0.9799 - val_accuracy: 0.6167\n",
      "Epoch 108/300\n",
      "96/96 [==============================] - 0s 3ms/step - loss: 0.7658 - accuracy: 0.6601 - val_loss: 0.9762 - val_accuracy: 0.6042\n",
      "Epoch 109/300\n",
      "96/96 [==============================] - 0s 3ms/step - loss: 0.7628 - accuracy: 0.6726 - val_loss: 0.9774 - val_accuracy: 0.6208\n",
      "Epoch 110/300\n",
      "96/96 [==============================] - 0s 3ms/step - loss: 0.7831 - accuracy: 0.6496 - val_loss: 0.9641 - val_accuracy: 0.6167\n",
      "Epoch 111/300\n",
      "96/96 [==============================] - 0s 4ms/step - loss: 0.7885 - accuracy: 0.6434 - val_loss: 0.9651 - val_accuracy: 0.6083\n",
      "Epoch 112/300\n",
      "96/96 [==============================] - 0s 4ms/step - loss: 0.7800 - accuracy: 0.6569 - val_loss: 0.9630 - val_accuracy: 0.6292\n",
      "Epoch 113/300\n",
      "96/96 [==============================] - 0s 4ms/step - loss: 0.7802 - accuracy: 0.6747 - val_loss: 0.9708 - val_accuracy: 0.6250\n",
      "Epoch 114/300\n",
      "96/96 [==============================] - 0s 4ms/step - loss: 0.7735 - accuracy: 0.6632 - val_loss: 0.9656 - val_accuracy: 0.6292\n",
      "Epoch 115/300\n",
      "96/96 [==============================] - 0s 4ms/step - loss: 0.7608 - accuracy: 0.6621 - val_loss: 0.9727 - val_accuracy: 0.6125\n",
      "Epoch 116/300\n"
     ]
    },
    {
     "name": "stdout",
     "output_type": "stream",
     "text": [
      "96/96 [==============================] - 0s 3ms/step - loss: 0.7538 - accuracy: 0.6726 - val_loss: 0.9818 - val_accuracy: 0.6042\n",
      "Epoch 117/300\n",
      "96/96 [==============================] - 0s 3ms/step - loss: 0.7537 - accuracy: 0.6872 - val_loss: 0.9824 - val_accuracy: 0.6208\n",
      "Epoch 118/300\n",
      "96/96 [==============================] - 0s 3ms/step - loss: 0.7803 - accuracy: 0.6548 - val_loss: 0.9837 - val_accuracy: 0.6125\n",
      "Epoch 119/300\n",
      "96/96 [==============================] - 0s 3ms/step - loss: 0.7724 - accuracy: 0.6705 - val_loss: 0.9865 - val_accuracy: 0.6167\n",
      "Epoch 120/300\n",
      "96/96 [==============================] - 0s 3ms/step - loss: 0.7700 - accuracy: 0.6528 - val_loss: 0.9762 - val_accuracy: 0.6083\n",
      "Epoch 121/300\n",
      "96/96 [==============================] - 0s 3ms/step - loss: 0.7576 - accuracy: 0.6611 - val_loss: 0.9754 - val_accuracy: 0.6292\n",
      "Epoch 122/300\n",
      "96/96 [==============================] - 0s 4ms/step - loss: 0.7539 - accuracy: 0.6809 - val_loss: 0.9845 - val_accuracy: 0.6000\n",
      "Epoch 123/300\n",
      "96/96 [==============================] - 0s 4ms/step - loss: 0.7584 - accuracy: 0.6726 - val_loss: 0.9800 - val_accuracy: 0.6042\n",
      "Epoch 124/300\n",
      "96/96 [==============================] - 0s 3ms/step - loss: 0.7568 - accuracy: 0.6726 - val_loss: 0.9781 - val_accuracy: 0.6167\n",
      "Epoch 125/300\n",
      "96/96 [==============================] - 0s 3ms/step - loss: 0.7630 - accuracy: 0.6653 - val_loss: 0.9807 - val_accuracy: 0.6167\n",
      "Epoch 126/300\n",
      "96/96 [==============================] - 0s 3ms/step - loss: 0.7457 - accuracy: 0.6642 - val_loss: 0.9838 - val_accuracy: 0.6250\n",
      "Epoch 127/300\n",
      "96/96 [==============================] - 0s 3ms/step - loss: 0.7557 - accuracy: 0.6757 - val_loss: 0.9846 - val_accuracy: 0.5917\n",
      "Epoch 128/300\n",
      "96/96 [==============================] - 0s 3ms/step - loss: 0.7471 - accuracy: 0.6840 - val_loss: 0.9736 - val_accuracy: 0.6000\n",
      "Epoch 129/300\n",
      "96/96 [==============================] - 0s 3ms/step - loss: 0.7659 - accuracy: 0.6684 - val_loss: 0.9780 - val_accuracy: 0.6083\n",
      "Epoch 130/300\n",
      "96/96 [==============================] - 0s 3ms/step - loss: 0.7740 - accuracy: 0.6548 - val_loss: 0.9711 - val_accuracy: 0.6125\n",
      "Epoch 131/300\n",
      "96/96 [==============================] - 0s 3ms/step - loss: 0.7581 - accuracy: 0.6736 - val_loss: 0.9719 - val_accuracy: 0.6250\n",
      "Epoch 132/300\n",
      "96/96 [==============================] - 0s 3ms/step - loss: 0.7392 - accuracy: 0.6726 - val_loss: 0.9807 - val_accuracy: 0.6083\n",
      "Epoch 133/300\n",
      "96/96 [==============================] - 0s 3ms/step - loss: 0.7644 - accuracy: 0.6903 - val_loss: 0.9713 - val_accuracy: 0.6083\n",
      "Epoch 134/300\n",
      "96/96 [==============================] - 0s 3ms/step - loss: 0.7439 - accuracy: 0.6809 - val_loss: 0.9789 - val_accuracy: 0.6167\n",
      "Epoch 135/300\n",
      "96/96 [==============================] - 0s 3ms/step - loss: 0.7736 - accuracy: 0.6559 - val_loss: 0.9738 - val_accuracy: 0.6083\n",
      "Epoch 136/300\n",
      "96/96 [==============================] - 0s 3ms/step - loss: 0.7419 - accuracy: 0.6893 - val_loss: 0.9666 - val_accuracy: 0.6083\n",
      "Epoch 137/300\n",
      "96/96 [==============================] - 0s 3ms/step - loss: 0.7477 - accuracy: 0.6736 - val_loss: 0.9720 - val_accuracy: 0.6083\n",
      "Epoch 138/300\n",
      "96/96 [==============================] - 0s 3ms/step - loss: 0.7414 - accuracy: 0.6820 - val_loss: 0.9666 - val_accuracy: 0.6292\n",
      "Epoch 139/300\n",
      "96/96 [==============================] - 0s 3ms/step - loss: 0.7455 - accuracy: 0.6694 - val_loss: 0.9582 - val_accuracy: 0.6292\n",
      "Epoch 140/300\n",
      "96/96 [==============================] - 0s 3ms/step - loss: 0.7427 - accuracy: 0.6726 - val_loss: 0.9683 - val_accuracy: 0.6375\n",
      "Epoch 141/300\n",
      "96/96 [==============================] - 0s 3ms/step - loss: 0.7290 - accuracy: 0.6778 - val_loss: 0.9683 - val_accuracy: 0.6333\n",
      "Epoch 142/300\n",
      "96/96 [==============================] - 0s 4ms/step - loss: 0.7200 - accuracy: 0.6861 - val_loss: 0.9723 - val_accuracy: 0.6333\n",
      "Epoch 143/300\n",
      "96/96 [==============================] - 0s 3ms/step - loss: 0.7467 - accuracy: 0.6684 - val_loss: 0.9745 - val_accuracy: 0.6250\n",
      "Epoch 144/300\n",
      "96/96 [==============================] - 0s 3ms/step - loss: 0.7492 - accuracy: 0.6872 - val_loss: 0.9761 - val_accuracy: 0.6250\n",
      "Epoch 145/300\n",
      "96/96 [==============================] - 0s 3ms/step - loss: 0.7336 - accuracy: 0.6726 - val_loss: 0.9837 - val_accuracy: 0.6167\n",
      "Epoch 146/300\n",
      "96/96 [==============================] - 0s 3ms/step - loss: 0.7172 - accuracy: 0.6861 - val_loss: 0.9734 - val_accuracy: 0.6250\n",
      "Epoch 147/300\n",
      "96/96 [==============================] - 0s 4ms/step - loss: 0.7485 - accuracy: 0.6799 - val_loss: 0.9861 - val_accuracy: 0.6208\n",
      "Epoch 148/300\n",
      "96/96 [==============================] - 0s 3ms/step - loss: 0.7359 - accuracy: 0.6778 - val_loss: 0.9847 - val_accuracy: 0.6208\n",
      "Epoch 149/300\n",
      "96/96 [==============================] - 0s 3ms/step - loss: 0.7295 - accuracy: 0.6747 - val_loss: 0.9786 - val_accuracy: 0.6292\n",
      "Epoch 150/300\n",
      "96/96 [==============================] - 0s 3ms/step - loss: 0.7246 - accuracy: 0.6913 - val_loss: 0.9897 - val_accuracy: 0.6208\n",
      "Epoch 151/300\n",
      "96/96 [==============================] - 0s 3ms/step - loss: 0.7376 - accuracy: 0.6663 - val_loss: 0.9818 - val_accuracy: 0.6208\n",
      "Epoch 152/300\n",
      "96/96 [==============================] - 0s 3ms/step - loss: 0.7420 - accuracy: 0.6705 - val_loss: 0.9839 - val_accuracy: 0.6208\n",
      "Epoch 153/300\n",
      "96/96 [==============================] - 0s 3ms/step - loss: 0.7488 - accuracy: 0.6663 - val_loss: 0.9828 - val_accuracy: 0.6333\n",
      "Epoch 154/300\n",
      "96/96 [==============================] - 0s 3ms/step - loss: 0.7422 - accuracy: 0.6715 - val_loss: 0.9887 - val_accuracy: 0.6167\n",
      "Epoch 155/300\n",
      "96/96 [==============================] - 0s 4ms/step - loss: 0.7282 - accuracy: 0.6820 - val_loss: 0.9861 - val_accuracy: 0.6250\n",
      "Epoch 156/300\n",
      "96/96 [==============================] - 0s 5ms/step - loss: 0.7256 - accuracy: 0.6799 - val_loss: 0.9750 - val_accuracy: 0.6250\n",
      "Epoch 157/300\n",
      "96/96 [==============================] - 0s 5ms/step - loss: 0.7143 - accuracy: 0.6986 - val_loss: 0.9764 - val_accuracy: 0.6333\n",
      "Epoch 158/300\n",
      "96/96 [==============================] - 0s 5ms/step - loss: 0.7228 - accuracy: 0.6882 - val_loss: 0.9841 - val_accuracy: 0.6417\n",
      "Epoch 159/300\n",
      "96/96 [==============================] - 1s 6ms/step - loss: 0.7525 - accuracy: 0.6788 - val_loss: 0.9724 - val_accuracy: 0.6250\n",
      "Epoch 160/300\n",
      "96/96 [==============================] - 0s 4ms/step - loss: 0.7419 - accuracy: 0.6872 - val_loss: 0.9745 - val_accuracy: 0.6208\n",
      "Epoch 161/300\n",
      "96/96 [==============================] - 0s 4ms/step - loss: 0.7144 - accuracy: 0.6997 - val_loss: 0.9860 - val_accuracy: 0.6208\n",
      "Epoch 162/300\n",
      "96/96 [==============================] - 0s 4ms/step - loss: 0.7136 - accuracy: 0.6924 - val_loss: 0.9940 - val_accuracy: 0.6333\n",
      "Epoch 163/300\n",
      "96/96 [==============================] - 0s 4ms/step - loss: 0.7031 - accuracy: 0.6767 - val_loss: 0.9907 - val_accuracy: 0.6250\n",
      "Epoch 164/300\n",
      "96/96 [==============================] - 0s 4ms/step - loss: 0.7407 - accuracy: 0.6830 - val_loss: 0.9838 - val_accuracy: 0.6167\n",
      "Epoch 165/300\n",
      "96/96 [==============================] - 0s 4ms/step - loss: 0.7165 - accuracy: 0.6778 - val_loss: 0.9890 - val_accuracy: 0.6333\n",
      "Epoch 166/300\n",
      "96/96 [==============================] - 0s 4ms/step - loss: 0.7233 - accuracy: 0.6851 - val_loss: 0.9819 - val_accuracy: 0.6208\n",
      "Epoch 167/300\n",
      "96/96 [==============================] - 0s 4ms/step - loss: 0.7347 - accuracy: 0.6799 - val_loss: 0.9798 - val_accuracy: 0.6333\n",
      "Epoch 168/300\n",
      "96/96 [==============================] - 0s 3ms/step - loss: 0.7298 - accuracy: 0.6903 - val_loss: 0.9802 - val_accuracy: 0.6167\n",
      "Epoch 169/300\n",
      "96/96 [==============================] - 0s 4ms/step - loss: 0.7178 - accuracy: 0.6715 - val_loss: 0.9812 - val_accuracy: 0.6250\n",
      "Epoch 170/300\n",
      "96/96 [==============================] - 0s 3ms/step - loss: 0.7358 - accuracy: 0.6809 - val_loss: 0.9698 - val_accuracy: 0.6333\n",
      "Epoch 171/300\n",
      "96/96 [==============================] - 0s 3ms/step - loss: 0.7048 - accuracy: 0.7091 - val_loss: 0.9755 - val_accuracy: 0.6375\n",
      "Epoch 172/300\n",
      "96/96 [==============================] - 0s 5ms/step - loss: 0.6926 - accuracy: 0.6861 - val_loss: 0.9845 - val_accuracy: 0.6250\n",
      "Epoch 173/300\n"
     ]
    },
    {
     "name": "stdout",
     "output_type": "stream",
     "text": [
      "96/96 [==============================] - 1s 5ms/step - loss: 0.7102 - accuracy: 0.6986 - val_loss: 0.9818 - val_accuracy: 0.6333\n",
      "Epoch 174/300\n",
      "96/96 [==============================] - 0s 4ms/step - loss: 0.7070 - accuracy: 0.6809 - val_loss: 0.9815 - val_accuracy: 0.6292\n",
      "Epoch 175/300\n",
      "96/96 [==============================] - 0s 4ms/step - loss: 0.6952 - accuracy: 0.6913 - val_loss: 0.9802 - val_accuracy: 0.6250\n",
      "Epoch 176/300\n",
      "96/96 [==============================] - 1s 6ms/step - loss: 0.7299 - accuracy: 0.6861 - val_loss: 0.9835 - val_accuracy: 0.6292\n",
      "Epoch 177/300\n",
      "96/96 [==============================] - 0s 4ms/step - loss: 0.7243 - accuracy: 0.6893 - val_loss: 0.9801 - val_accuracy: 0.6417\n",
      "Epoch 178/300\n",
      "96/96 [==============================] - 0s 4ms/step - loss: 0.7179 - accuracy: 0.6913 - val_loss: 0.9655 - val_accuracy: 0.6333\n",
      "Epoch 179/300\n",
      "96/96 [==============================] - 0s 4ms/step - loss: 0.7218 - accuracy: 0.6767 - val_loss: 0.9602 - val_accuracy: 0.6375\n",
      "Epoch 180/300\n",
      "96/96 [==============================] - 0s 3ms/step - loss: 0.7244 - accuracy: 0.6861 - val_loss: 0.9688 - val_accuracy: 0.6208\n",
      "Epoch 181/300\n",
      "96/96 [==============================] - 1s 5ms/step - loss: 0.7119 - accuracy: 0.7049 - val_loss: 0.9802 - val_accuracy: 0.6167\n",
      "Epoch 182/300\n",
      "96/96 [==============================] - 0s 5ms/step - loss: 0.7192 - accuracy: 0.6809 - val_loss: 0.9694 - val_accuracy: 0.6250\n",
      "Epoch 183/300\n",
      "96/96 [==============================] - 0s 4ms/step - loss: 0.7022 - accuracy: 0.7018 - val_loss: 0.9700 - val_accuracy: 0.6375\n",
      "Epoch 184/300\n",
      "96/96 [==============================] - 1s 6ms/step - loss: 0.7283 - accuracy: 0.6851 - val_loss: 0.9676 - val_accuracy: 0.6417\n",
      "Epoch 185/300\n",
      "96/96 [==============================] - 0s 5ms/step - loss: 0.7293 - accuracy: 0.6788 - val_loss: 0.9696 - val_accuracy: 0.6333\n",
      "Epoch 186/300\n",
      "96/96 [==============================] - 0s 5ms/step - loss: 0.7116 - accuracy: 0.6809 - val_loss: 0.9742 - val_accuracy: 0.6375\n",
      "Epoch 187/300\n",
      "96/96 [==============================] - 1s 6ms/step - loss: 0.7193 - accuracy: 0.6840 - val_loss: 0.9668 - val_accuracy: 0.6292\n",
      "Epoch 188/300\n",
      "96/96 [==============================] - 1s 6ms/step - loss: 0.7182 - accuracy: 0.6903 - val_loss: 0.9680 - val_accuracy: 0.6417\n",
      "Epoch 189/300\n",
      "96/96 [==============================] - 1s 6ms/step - loss: 0.7052 - accuracy: 0.7143 - val_loss: 0.9756 - val_accuracy: 0.6375\n",
      "Epoch 190/300\n",
      "96/96 [==============================] - 1s 7ms/step - loss: 0.7024 - accuracy: 0.7049 - val_loss: 0.9686 - val_accuracy: 0.6292\n",
      "Epoch 191/300\n",
      "96/96 [==============================] - 1s 6ms/step - loss: 0.7140 - accuracy: 0.6809 - val_loss: 0.9737 - val_accuracy: 0.6375\n",
      "Epoch 192/300\n",
      "96/96 [==============================] - 0s 4ms/step - loss: 0.7086 - accuracy: 0.6955 - val_loss: 0.9721 - val_accuracy: 0.6375\n",
      "Epoch 193/300\n",
      "96/96 [==============================] - 0s 4ms/step - loss: 0.7203 - accuracy: 0.6945 - val_loss: 0.9743 - val_accuracy: 0.6292\n",
      "Epoch 194/300\n",
      "96/96 [==============================] - 0s 4ms/step - loss: 0.7043 - accuracy: 0.6872 - val_loss: 0.9759 - val_accuracy: 0.6250\n",
      "Epoch 195/300\n",
      "96/96 [==============================] - 0s 5ms/step - loss: 0.6857 - accuracy: 0.6976 - val_loss: 0.9863 - val_accuracy: 0.6333\n",
      "Epoch 196/300\n",
      "96/96 [==============================] - 0s 4ms/step - loss: 0.7120 - accuracy: 0.6861 - val_loss: 0.9772 - val_accuracy: 0.6333\n",
      "Epoch 197/300\n",
      "96/96 [==============================] - 0s 4ms/step - loss: 0.6971 - accuracy: 0.6872 - val_loss: 0.9728 - val_accuracy: 0.6333\n",
      "Epoch 198/300\n",
      "96/96 [==============================] - 1s 6ms/step - loss: 0.7084 - accuracy: 0.6945 - val_loss: 0.9622 - val_accuracy: 0.6333\n",
      "Epoch 199/300\n",
      "96/96 [==============================] - 0s 5ms/step - loss: 0.7013 - accuracy: 0.6840 - val_loss: 0.9695 - val_accuracy: 0.6292\n",
      "Epoch 200/300\n",
      "96/96 [==============================] - 0s 5ms/step - loss: 0.6924 - accuracy: 0.6913 - val_loss: 0.9737 - val_accuracy: 0.6333\n",
      "Epoch 201/300\n",
      "96/96 [==============================] - 0s 4ms/step - loss: 0.6968 - accuracy: 0.7018 - val_loss: 0.9880 - val_accuracy: 0.6375\n",
      "Epoch 202/300\n",
      "96/96 [==============================] - 0s 5ms/step - loss: 0.7223 - accuracy: 0.6872 - val_loss: 0.9809 - val_accuracy: 0.6375\n",
      "Epoch 203/300\n",
      "96/96 [==============================] - 0s 4ms/step - loss: 0.6917 - accuracy: 0.7112 - val_loss: 0.9815 - val_accuracy: 0.6375\n",
      "Epoch 204/300\n",
      "96/96 [==============================] - 0s 4ms/step - loss: 0.7110 - accuracy: 0.7122 - val_loss: 0.9721 - val_accuracy: 0.6292\n",
      "Epoch 205/300\n",
      "96/96 [==============================] - 0s 4ms/step - loss: 0.6832 - accuracy: 0.6966 - val_loss: 0.9928 - val_accuracy: 0.6417\n",
      "Epoch 206/300\n",
      "96/96 [==============================] - 0s 4ms/step - loss: 0.6938 - accuracy: 0.6934 - val_loss: 0.9766 - val_accuracy: 0.6292\n",
      "Epoch 207/300\n",
      "96/96 [==============================] - 0s 5ms/step - loss: 0.7005 - accuracy: 0.6966 - val_loss: 0.9727 - val_accuracy: 0.6292\n",
      "Epoch 208/300\n",
      "96/96 [==============================] - 0s 4ms/step - loss: 0.6986 - accuracy: 0.6997 - val_loss: 0.9856 - val_accuracy: 0.6375\n",
      "Epoch 209/300\n",
      "96/96 [==============================] - 0s 5ms/step - loss: 0.7020 - accuracy: 0.7122 - val_loss: 0.9749 - val_accuracy: 0.6333\n",
      "Epoch 210/300\n",
      "96/96 [==============================] - 0s 4ms/step - loss: 0.6849 - accuracy: 0.7080 - val_loss: 0.9786 - val_accuracy: 0.6375\n",
      "Epoch 211/300\n",
      "96/96 [==============================] - 0s 4ms/step - loss: 0.7011 - accuracy: 0.6966 - val_loss: 0.9795 - val_accuracy: 0.6333\n",
      "Epoch 212/300\n",
      "96/96 [==============================] - 0s 4ms/step - loss: 0.7013 - accuracy: 0.7018 - val_loss: 0.9789 - val_accuracy: 0.6375\n",
      "Epoch 213/300\n",
      "96/96 [==============================] - 0s 4ms/step - loss: 0.7085 - accuracy: 0.6893 - val_loss: 0.9827 - val_accuracy: 0.6208\n",
      "Epoch 214/300\n",
      "96/96 [==============================] - 0s 4ms/step - loss: 0.7053 - accuracy: 0.6945 - val_loss: 0.9731 - val_accuracy: 0.6333\n",
      "Epoch 215/300\n",
      "96/96 [==============================] - 0s 4ms/step - loss: 0.6861 - accuracy: 0.6934 - val_loss: 0.9777 - val_accuracy: 0.6208\n",
      "Epoch 216/300\n",
      "96/96 [==============================] - 1s 6ms/step - loss: 0.6907 - accuracy: 0.7018 - val_loss: 0.9740 - val_accuracy: 0.6292\n",
      "Epoch 217/300\n",
      "96/96 [==============================] - 0s 4ms/step - loss: 0.6937 - accuracy: 0.6955 - val_loss: 0.9769 - val_accuracy: 0.6292\n",
      "Epoch 218/300\n",
      "96/96 [==============================] - 0s 4ms/step - loss: 0.6936 - accuracy: 0.6872 - val_loss: 0.9827 - val_accuracy: 0.6542\n",
      "Epoch 219/300\n",
      "96/96 [==============================] - 0s 4ms/step - loss: 0.6734 - accuracy: 0.7132 - val_loss: 0.9833 - val_accuracy: 0.6583\n",
      "Epoch 220/300\n",
      "96/96 [==============================] - 0s 4ms/step - loss: 0.6775 - accuracy: 0.7039 - val_loss: 0.9857 - val_accuracy: 0.6375\n",
      "Epoch 221/300\n",
      "96/96 [==============================] - 0s 4ms/step - loss: 0.6927 - accuracy: 0.6913 - val_loss: 0.9950 - val_accuracy: 0.6417\n",
      "Epoch 222/300\n",
      "96/96 [==============================] - 0s 4ms/step - loss: 0.6896 - accuracy: 0.7007 - val_loss: 0.9983 - val_accuracy: 0.6333\n",
      "Epoch 223/300\n",
      "96/96 [==============================] - 0s 4ms/step - loss: 0.6706 - accuracy: 0.7132 - val_loss: 0.9965 - val_accuracy: 0.6417\n",
      "Epoch 224/300\n",
      "96/96 [==============================] - 0s 5ms/step - loss: 0.6667 - accuracy: 0.7216 - val_loss: 1.0155 - val_accuracy: 0.6417\n",
      "Epoch 225/300\n",
      "96/96 [==============================] - 0s 4ms/step - loss: 0.6723 - accuracy: 0.7028 - val_loss: 1.0036 - val_accuracy: 0.6333\n",
      "Epoch 226/300\n",
      "96/96 [==============================] - 0s 4ms/step - loss: 0.6771 - accuracy: 0.7028 - val_loss: 0.9905 - val_accuracy: 0.6500\n",
      "Epoch 227/300\n",
      "96/96 [==============================] - 0s 3ms/step - loss: 0.7101 - accuracy: 0.6882 - val_loss: 0.9780 - val_accuracy: 0.6500\n",
      "Epoch 228/300\n",
      "96/96 [==============================] - 0s 3ms/step - loss: 0.7018 - accuracy: 0.6934 - val_loss: 0.9821 - val_accuracy: 0.6333\n",
      "Epoch 229/300\n",
      "96/96 [==============================] - 0s 4ms/step - loss: 0.7028 - accuracy: 0.6966 - val_loss: 0.9686 - val_accuracy: 0.6333\n",
      "Epoch 230/300\n"
     ]
    },
    {
     "name": "stdout",
     "output_type": "stream",
     "text": [
      "96/96 [==============================] - 0s 4ms/step - loss: 0.6946 - accuracy: 0.6986 - val_loss: 0.9842 - val_accuracy: 0.6208\n",
      "Epoch 231/300\n",
      "96/96 [==============================] - 0s 3ms/step - loss: 0.6776 - accuracy: 0.7070 - val_loss: 0.9872 - val_accuracy: 0.6125\n",
      "Epoch 232/300\n",
      "96/96 [==============================] - 0s 4ms/step - loss: 0.6831 - accuracy: 0.7101 - val_loss: 0.9886 - val_accuracy: 0.6042\n",
      "Epoch 233/300\n",
      "96/96 [==============================] - 0s 4ms/step - loss: 0.7032 - accuracy: 0.7049 - val_loss: 0.9892 - val_accuracy: 0.6250\n",
      "Epoch 234/300\n",
      "96/96 [==============================] - 0s 4ms/step - loss: 0.6772 - accuracy: 0.7028 - val_loss: 0.9922 - val_accuracy: 0.6417\n",
      "Epoch 235/300\n",
      "96/96 [==============================] - 0s 3ms/step - loss: 0.6850 - accuracy: 0.7143 - val_loss: 0.9872 - val_accuracy: 0.6500\n",
      "Epoch 236/300\n",
      "96/96 [==============================] - 0s 4ms/step - loss: 0.7070 - accuracy: 0.6861 - val_loss: 0.9827 - val_accuracy: 0.6542\n",
      "Epoch 237/300\n",
      "96/96 [==============================] - 0s 3ms/step - loss: 0.6786 - accuracy: 0.6934 - val_loss: 0.9988 - val_accuracy: 0.6417\n",
      "Epoch 238/300\n",
      "96/96 [==============================] - 0s 3ms/step - loss: 0.6788 - accuracy: 0.7091 - val_loss: 0.9885 - val_accuracy: 0.6125\n",
      "Epoch 239/300\n",
      "96/96 [==============================] - 0s 4ms/step - loss: 0.6940 - accuracy: 0.6966 - val_loss: 0.9991 - val_accuracy: 0.6458\n",
      "Epoch 240/300\n",
      "96/96 [==============================] - 0s 4ms/step - loss: 0.6803 - accuracy: 0.7070 - val_loss: 0.9843 - val_accuracy: 0.6333\n",
      "Epoch 241/300\n",
      "96/96 [==============================] - 0s 3ms/step - loss: 0.6954 - accuracy: 0.6945 - val_loss: 0.9918 - val_accuracy: 0.6583\n",
      "Epoch 242/300\n",
      "96/96 [==============================] - 0s 4ms/step - loss: 0.6673 - accuracy: 0.7185 - val_loss: 0.9966 - val_accuracy: 0.6375\n",
      "Epoch 243/300\n",
      "96/96 [==============================] - 0s 3ms/step - loss: 0.6892 - accuracy: 0.7028 - val_loss: 1.0019 - val_accuracy: 0.6500\n",
      "Epoch 244/300\n",
      "96/96 [==============================] - 0s 4ms/step - loss: 0.6986 - accuracy: 0.6882 - val_loss: 1.0003 - val_accuracy: 0.6333\n",
      "Epoch 245/300\n",
      "96/96 [==============================] - 0s 5ms/step - loss: 0.6657 - accuracy: 0.7122 - val_loss: 1.0022 - val_accuracy: 0.6333\n",
      "Epoch 246/300\n",
      "96/96 [==============================] - 1s 6ms/step - loss: 0.6744 - accuracy: 0.7091 - val_loss: 1.0030 - val_accuracy: 0.6417\n",
      "Epoch 247/300\n",
      "96/96 [==============================] - 0s 4ms/step - loss: 0.6805 - accuracy: 0.6966 - val_loss: 0.9978 - val_accuracy: 0.6375\n",
      "Epoch 248/300\n",
      "96/96 [==============================] - 1s 7ms/step - loss: 0.6834 - accuracy: 0.7018 - val_loss: 0.9858 - val_accuracy: 0.6375\n",
      "Epoch 249/300\n",
      "96/96 [==============================] - 0s 4ms/step - loss: 0.6507 - accuracy: 0.7185 - val_loss: 0.9989 - val_accuracy: 0.6542\n",
      "Epoch 250/300\n",
      "96/96 [==============================] - 0s 4ms/step - loss: 0.7097 - accuracy: 0.6976 - val_loss: 0.9948 - val_accuracy: 0.6292\n",
      "Epoch 251/300\n",
      "96/96 [==============================] - 0s 4ms/step - loss: 0.6840 - accuracy: 0.6903 - val_loss: 1.0008 - val_accuracy: 0.6500\n",
      "Epoch 252/300\n",
      "96/96 [==============================] - 0s 4ms/step - loss: 0.6725 - accuracy: 0.6997 - val_loss: 1.0035 - val_accuracy: 0.6417\n",
      "Epoch 253/300\n",
      "96/96 [==============================] - 0s 3ms/step - loss: 0.6768 - accuracy: 0.6997 - val_loss: 0.9986 - val_accuracy: 0.6417\n",
      "Epoch 254/300\n",
      "96/96 [==============================] - 0s 3ms/step - loss: 0.6558 - accuracy: 0.7153 - val_loss: 1.0039 - val_accuracy: 0.6375\n",
      "Epoch 255/300\n",
      "96/96 [==============================] - 0s 3ms/step - loss: 0.6689 - accuracy: 0.7101 - val_loss: 1.0085 - val_accuracy: 0.6250\n",
      "Epoch 256/300\n",
      "96/96 [==============================] - 0s 3ms/step - loss: 0.6787 - accuracy: 0.6966 - val_loss: 1.0017 - val_accuracy: 0.6292\n",
      "Epoch 257/300\n",
      "96/96 [==============================] - 0s 3ms/step - loss: 0.6750 - accuracy: 0.6913 - val_loss: 0.9977 - val_accuracy: 0.6292\n",
      "Epoch 258/300\n",
      "96/96 [==============================] - 0s 3ms/step - loss: 0.7073 - accuracy: 0.6976 - val_loss: 0.9887 - val_accuracy: 0.6375\n",
      "Epoch 259/300\n",
      "96/96 [==============================] - 0s 4ms/step - loss: 0.6709 - accuracy: 0.7122 - val_loss: 0.9969 - val_accuracy: 0.6542\n",
      "Epoch 260/300\n",
      "96/96 [==============================] - 1s 6ms/step - loss: 0.6558 - accuracy: 0.7059 - val_loss: 0.9898 - val_accuracy: 0.6417\n",
      "Epoch 261/300\n",
      "96/96 [==============================] - 0s 4ms/step - loss: 0.6560 - accuracy: 0.7289 - val_loss: 0.9951 - val_accuracy: 0.6375\n",
      "Epoch 262/300\n",
      "96/96 [==============================] - 0s 4ms/step - loss: 0.6607 - accuracy: 0.7185 - val_loss: 1.0020 - val_accuracy: 0.6167\n",
      "Epoch 263/300\n",
      "96/96 [==============================] - 0s 4ms/step - loss: 0.6753 - accuracy: 0.7143 - val_loss: 0.9905 - val_accuracy: 0.6292\n",
      "Epoch 264/300\n",
      "96/96 [==============================] - 0s 4ms/step - loss: 0.6818 - accuracy: 0.7122 - val_loss: 0.9931 - val_accuracy: 0.6417\n",
      "Epoch 265/300\n",
      "96/96 [==============================] - 0s 4ms/step - loss: 0.6893 - accuracy: 0.7007 - val_loss: 0.9867 - val_accuracy: 0.6292\n",
      "Epoch 266/300\n",
      "96/96 [==============================] - 0s 4ms/step - loss: 0.6490 - accuracy: 0.7174 - val_loss: 0.9933 - val_accuracy: 0.6333\n",
      "Epoch 267/300\n",
      "96/96 [==============================] - 0s 4ms/step - loss: 0.6652 - accuracy: 0.7226 - val_loss: 0.9898 - val_accuracy: 0.6333\n",
      "Epoch 268/300\n",
      "96/96 [==============================] - 0s 4ms/step - loss: 0.6790 - accuracy: 0.6976 - val_loss: 0.9839 - val_accuracy: 0.6375\n",
      "Epoch 269/300\n",
      "96/96 [==============================] - 0s 4ms/step - loss: 0.6356 - accuracy: 0.7226 - val_loss: 0.9918 - val_accuracy: 0.6542\n",
      "Epoch 270/300\n",
      "96/96 [==============================] - 0s 5ms/step - loss: 0.6979 - accuracy: 0.6861 - val_loss: 0.9914 - val_accuracy: 0.6250\n",
      "Epoch 271/300\n",
      "96/96 [==============================] - 0s 4ms/step - loss: 0.6228 - accuracy: 0.7289 - val_loss: 1.0128 - val_accuracy: 0.6292\n",
      "Epoch 272/300\n",
      "96/96 [==============================] - 1s 7ms/step - loss: 0.6760 - accuracy: 0.7039 - val_loss: 1.0038 - val_accuracy: 0.6292\n",
      "Epoch 273/300\n",
      "96/96 [==============================] - 1s 7ms/step - loss: 0.6476 - accuracy: 0.7331 - val_loss: 1.0048 - val_accuracy: 0.6292\n",
      "Epoch 274/300\n",
      "96/96 [==============================] - 1s 6ms/step - loss: 0.6705 - accuracy: 0.7153 - val_loss: 0.9985 - val_accuracy: 0.6167\n",
      "Epoch 275/300\n",
      "96/96 [==============================] - 0s 5ms/step - loss: 0.6811 - accuracy: 0.7028 - val_loss: 0.9853 - val_accuracy: 0.6333\n",
      "Epoch 276/300\n",
      "96/96 [==============================] - 0s 5ms/step - loss: 0.6384 - accuracy: 0.7226 - val_loss: 0.9902 - val_accuracy: 0.6333\n",
      "Epoch 277/300\n",
      "96/96 [==============================] - 0s 4ms/step - loss: 0.6387 - accuracy: 0.7258 - val_loss: 0.9980 - val_accuracy: 0.6417\n",
      "Epoch 278/300\n",
      "96/96 [==============================] - 0s 4ms/step - loss: 0.6483 - accuracy: 0.7247 - val_loss: 0.9858 - val_accuracy: 0.6250\n",
      "Epoch 279/300\n",
      "96/96 [==============================] - 0s 4ms/step - loss: 0.6484 - accuracy: 0.7278 - val_loss: 0.9907 - val_accuracy: 0.6292\n",
      "Epoch 280/300\n",
      "96/96 [==============================] - 0s 5ms/step - loss: 0.6631 - accuracy: 0.7195 - val_loss: 0.9919 - val_accuracy: 0.6458\n",
      "Epoch 281/300\n",
      "96/96 [==============================] - 0s 4ms/step - loss: 0.6486 - accuracy: 0.7091 - val_loss: 0.9940 - val_accuracy: 0.6417\n",
      "Epoch 282/300\n",
      "96/96 [==============================] - 1s 6ms/step - loss: 0.6734 - accuracy: 0.6986 - val_loss: 0.9839 - val_accuracy: 0.6375\n",
      "Epoch 283/300\n",
      "96/96 [==============================] - 0s 5ms/step - loss: 0.6481 - accuracy: 0.7185 - val_loss: 1.0025 - val_accuracy: 0.6417\n",
      "Epoch 284/300\n",
      "96/96 [==============================] - 0s 5ms/step - loss: 0.7013 - accuracy: 0.7028 - val_loss: 0.9849 - val_accuracy: 0.6542\n",
      "Epoch 285/300\n",
      "96/96 [==============================] - 0s 4ms/step - loss: 0.6655 - accuracy: 0.7080 - val_loss: 0.9880 - val_accuracy: 0.6500\n",
      "Epoch 286/300\n",
      "96/96 [==============================] - 0s 4ms/step - loss: 0.6855 - accuracy: 0.7091 - val_loss: 0.9925 - val_accuracy: 0.6500\n",
      "Epoch 287/300\n"
     ]
    },
    {
     "name": "stdout",
     "output_type": "stream",
     "text": [
      "96/96 [==============================] - 0s 4ms/step - loss: 0.6397 - accuracy: 0.7351 - val_loss: 1.0060 - val_accuracy: 0.6500\n",
      "Epoch 288/300\n",
      "96/96 [==============================] - 0s 4ms/step - loss: 0.6533 - accuracy: 0.7237 - val_loss: 1.0090 - val_accuracy: 0.6417\n",
      "Epoch 289/300\n",
      "96/96 [==============================] - 0s 4ms/step - loss: 0.6469 - accuracy: 0.7185 - val_loss: 0.9961 - val_accuracy: 0.6292\n",
      "Epoch 290/300\n",
      "96/96 [==============================] - 0s 4ms/step - loss: 0.6649 - accuracy: 0.7070 - val_loss: 0.9925 - val_accuracy: 0.6292\n",
      "Epoch 291/300\n",
      "96/96 [==============================] - 0s 4ms/step - loss: 0.6305 - accuracy: 0.7341 - val_loss: 1.0092 - val_accuracy: 0.6250\n",
      "Epoch 292/300\n",
      "96/96 [==============================] - 0s 4ms/step - loss: 0.6288 - accuracy: 0.7258 - val_loss: 1.0109 - val_accuracy: 0.6375\n",
      "Epoch 293/300\n",
      "96/96 [==============================] - 0s 4ms/step - loss: 0.6691 - accuracy: 0.7143 - val_loss: 1.0132 - val_accuracy: 0.6417\n",
      "Epoch 294/300\n",
      "96/96 [==============================] - 0s 4ms/step - loss: 0.6530 - accuracy: 0.7039 - val_loss: 1.0090 - val_accuracy: 0.6333\n",
      "Epoch 295/300\n",
      "96/96 [==============================] - 0s 4ms/step - loss: 0.6546 - accuracy: 0.7143 - val_loss: 0.9983 - val_accuracy: 0.6333\n",
      "Epoch 296/300\n",
      "96/96 [==============================] - 0s 4ms/step - loss: 0.6622 - accuracy: 0.7164 - val_loss: 1.0027 - val_accuracy: 0.6292\n",
      "Epoch 297/300\n",
      "96/96 [==============================] - 0s 4ms/step - loss: 0.6684 - accuracy: 0.7216 - val_loss: 1.0061 - val_accuracy: 0.6500\n",
      "Epoch 298/300\n",
      "96/96 [==============================] - 0s 4ms/step - loss: 0.6598 - accuracy: 0.7143 - val_loss: 1.0152 - val_accuracy: 0.6250\n",
      "Epoch 299/300\n",
      "96/96 [==============================] - 0s 4ms/step - loss: 0.6687 - accuracy: 0.7101 - val_loss: 1.0017 - val_accuracy: 0.6375\n",
      "Epoch 300/300\n",
      "96/96 [==============================] - 0s 4ms/step - loss: 0.6527 - accuracy: 0.7164 - val_loss: 1.0112 - val_accuracy: 0.6208\n"
     ]
    }
   ],
   "source": [
    "history = model.fit(x_train, y_train, epochs=300, batch_size=10, validation_split=0.2)"
   ]
  },
  {
   "cell_type": "code",
   "execution_count": 140,
   "metadata": {},
   "outputs": [
    {
     "data": {
      "image/png": "[encoded data removed]",
      "text/plain": [
       "<Figure size 432x288 with 1 Axes>"
      ]
     },
     "metadata": {
      "needs_background": "light"
     },
     "output_type": "display_data"
    },
    {
     "data": {
      "image/png": "[encoded data removed]",
      "text/plain": [
       "<Figure size 432x288 with 1 Axes>"
      ]
     },
     "metadata": {
      "needs_background": "light"
     },
     "output_type": "display_data"
    }
   ],
   "source": [
    "acc = history.history['accuracy']\n",
    "loss = history.history['loss']\n",
    "val_acc = history.history['val_accuracy']\n",
    "val_loss = history.history['val_loss']\n",
    "\n",
    "epochs = range(len(acc))\n",
    "plt.plot(epochs, acc,'r', label='Training accuracy')\n",
    "plt.plot(epochs, val_acc, 'b', label='Validation accurcay')\n",
    "plt.title('Training and Validation accuracies')\n",
    "plt.legend()\n",
    "plt.figure()\n",
    "\n",
    "plt.plot(epochs, loss, 'r', label='Training loss')\n",
    "plt.plot(epochs, val_loss, 'b', label='Validation loss')\n",
    "plt.title('Training and validation loss')\n",
    "plt.legend()\n",
    "plt.show()"
   ]
  },
  {
   "cell_type": "markdown",
   "metadata": {},
   "source": [
    "Accuracy obtained from Neural Network is 71.64% with validation accuracy of 62.08%"
   ]
  },
  {
   "cell_type": "markdown",
   "metadata": {},
   "source": [
    "### Creating an ensemble model"
   ]
  },
  {
   "cell_type": "code",
   "execution_count": 159,
   "metadata": {},
   "outputs": [],
   "source": [
    "dt = DecisionTreeClassifier(random_state=42)\n",
    "rf = RandomForestClassifier(random_state=42)\n",
    "svm_classifier = SVC(probability=True, random_state=42)"
   ]
  },
  {
   "cell_type": "code",
   "execution_count": 160,
   "metadata": {},
   "outputs": [],
   "source": [
    "ensemble_classifier = VotingClassifier(estimators=[\n",
    "    ('decision_tree', dt),\n",
    "    ('random_forest', rf),\n",
    "    ('svm', svm_classifier)\n",
    "], voting='soft')"
   ]
  },
  {
   "cell_type": "code",
   "execution_count": 167,
   "metadata": {},
   "outputs": [
    {
     "data": {
      "text/plain": [
       "VotingClassifier(estimators=[('decision_tree',\n",
       "                              DecisionTreeClassifier(random_state=42)),\n",
       "                             ('random_forest',\n",
       "                              RandomForestClassifier(random_state=42)),\n",
       "                             ('svm', SVC(probability=True, random_state=42))],\n",
       "                 voting='soft')"
      ]
     },
     "execution_count": 167,
     "metadata": {},
     "output_type": "execute_result"
    }
   ],
   "source": [
    "ensemble_classifier.fit(x_train, y_train)"
   ]
  },
  {
   "cell_type": "code",
   "execution_count": 168,
   "metadata": {},
   "outputs": [
    {
     "data": {
      "text/plain": [
       "0.665"
      ]
     },
     "execution_count": 168,
     "metadata": {},
     "output_type": "execute_result"
    }
   ],
   "source": [
    "y_pred = ensemble_classifier.predict(x_test)\n",
    "accuracy_score(y_pred, y_test)"
   ]
  },
  {
   "cell_type": "markdown",
   "metadata": {},
   "source": [
    "Accuracy obtained from ensemble model is 66.5%"
   ]
  },
  {
   "cell_type": "markdown",
   "metadata": {},
   "source": [
    "### Bagging Classifier"
   ]
  },
  {
   "cell_type": "code",
   "execution_count": 171,
   "metadata": {},
   "outputs": [],
   "source": [
    "base_classifier = RandomForestClassifier(random_state=10)"
   ]
  },
  {
   "cell_type": "code",
   "execution_count": 172,
   "metadata": {},
   "outputs": [
    {
     "data": {
      "text/plain": [
       "BaggingClassifier(base_estimator=RandomForestClassifier(random_state=10),\n",
       "                  random_state=12)"
      ]
     },
     "execution_count": 172,
     "metadata": {},
     "output_type": "execute_result"
    }
   ],
   "source": [
    "bag = BaggingClassifier(base_classifier, n_estimators=10, random_state=12)\n",
    "bag.fit(x_train, y_train)"
   ]
  },
  {
   "cell_type": "code",
   "execution_count": 173,
   "metadata": {},
   "outputs": [
    {
     "data": {
      "text/plain": [
       "0.7025"
      ]
     },
     "execution_count": 173,
     "metadata": {},
     "output_type": "execute_result"
    }
   ],
   "source": [
    "y_pred = bag.predict(x_test)\n",
    "accuracy_score(y_pred, y_test)"
   ]
  },
  {
   "cell_type": "markdown",
   "metadata": {},
   "source": [
    "Accuracy obtained from Bagging Classifier is 70.25%"
   ]
  }
 ],
 "metadata": {
  "kernelspec": {
   "display_name": "Python 3",
   "language": "python",
   "name": "python3"
  },
  "language_info": {
   "codemirror_mode": {
    "name": "ipython",
    "version": 3
   },
   "file_extension": ".py",
   "mimetype": "text/x-python",
   "name": "python",
   "nbconvert_exporter": "python",
   "pygments_lexer": "ipython3",
   "version": "3.8.3"
  }
 },
 "nbformat": 4,
 "nbformat_minor": 4
}
